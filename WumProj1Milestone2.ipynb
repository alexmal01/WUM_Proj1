{
  "cells": [
    {
      "cell_type": "markdown",
      "metadata": {
        "id": "RF_aOiYQJlwU"
      },
      "source": [
        "# Wstęp do uczenia maszynowego - Projekt 1\n",
        "## Aleksander Malinowski | Damian Skowroński\n",
        "___\n",
        "### Milestone 2\n",
        "Będziemy robić modele na danych, na których wykonaliśmy preprocessing w kamieniu milowym 1. W preprocessingu wykonaliśmy następujące zmiany:\n",
        "\n",
        "*   dodatnie kolumn:\n",
        "    *   _black_king_dst_ - odleglość czarnego króla od brzegu planszy\n",
        "    *   _black2white_king_dst_ - odległość króli od siebie \n",
        "    *   _black2rook_dst_ - odległość czarnego króla od białej wieży\n",
        "*   wykonanie label encoding dla zmiennych określających _file_\n",
        "*   zamienienie wartości słownych w zmiennej celu _result_ na odpowiadające im liczby i wartości \"draw\" na \"-1\""
      ]
    },
    {
      "cell_type": "code",
      "execution_count": 1,
      "metadata": {
        "colab": {
          "base_uri": "https://localhost:8080/",
          "height": 225
        },
        "id": "hEyXQM1_JlwX",
        "outputId": "7a7694be-eba2-45e4-916e-01a09c7e97c1"
      },
      "outputs": [
        {
          "output_type": "stream",
          "name": "stdout",
          "text": [
            "Mounted at /content/drive\n"
          ]
        },
        {
          "output_type": "execute_result",
          "data": {
            "text/plain": [
              "   white_king_file  white_king_rank  white_rook_file  white_rook_rank  \\\n",
              "0                2                2                3                3   \n",
              "1                1                1                6                3   \n",
              "2                4                4                7                5   \n",
              "3                3                1                7                3   \n",
              "4                4                1                2                5   \n",
              "\n",
              "   black_king_file  black_king_rank  result  black_king_dst  \\\n",
              "0                8                3      13               0   \n",
              "1                5                3      -1               2   \n",
              "2                8                2       6               0   \n",
              "3                2                7      13               1   \n",
              "4                8                5      13               0   \n",
              "\n",
              "   black2white_king_dst  black2rook_dst  \n",
              "0                     6               5  \n",
              "1                     4               1  \n",
              "2                     4               3  \n",
              "3                     6               5  \n",
              "4                     4               6  "
            ],
            "text/html": [
              "\n",
              "  <div id=\"df-45e1936b-76ca-46b3-8f5b-f77cd57e25c4\">\n",
              "    <div class=\"colab-df-container\">\n",
              "      <div>\n",
              "<style scoped>\n",
              "    .dataframe tbody tr th:only-of-type {\n",
              "        vertical-align: middle;\n",
              "    }\n",
              "\n",
              "    .dataframe tbody tr th {\n",
              "        vertical-align: top;\n",
              "    }\n",
              "\n",
              "    .dataframe thead th {\n",
              "        text-align: right;\n",
              "    }\n",
              "</style>\n",
              "<table border=\"1\" class=\"dataframe\">\n",
              "  <thead>\n",
              "    <tr style=\"text-align: right;\">\n",
              "      <th></th>\n",
              "      <th>white_king_file</th>\n",
              "      <th>white_king_rank</th>\n",
              "      <th>white_rook_file</th>\n",
              "      <th>white_rook_rank</th>\n",
              "      <th>black_king_file</th>\n",
              "      <th>black_king_rank</th>\n",
              "      <th>result</th>\n",
              "      <th>black_king_dst</th>\n",
              "      <th>black2white_king_dst</th>\n",
              "      <th>black2rook_dst</th>\n",
              "    </tr>\n",
              "  </thead>\n",
              "  <tbody>\n",
              "    <tr>\n",
              "      <th>0</th>\n",
              "      <td>2</td>\n",
              "      <td>2</td>\n",
              "      <td>3</td>\n",
              "      <td>3</td>\n",
              "      <td>8</td>\n",
              "      <td>3</td>\n",
              "      <td>13</td>\n",
              "      <td>0</td>\n",
              "      <td>6</td>\n",
              "      <td>5</td>\n",
              "    </tr>\n",
              "    <tr>\n",
              "      <th>1</th>\n",
              "      <td>1</td>\n",
              "      <td>1</td>\n",
              "      <td>6</td>\n",
              "      <td>3</td>\n",
              "      <td>5</td>\n",
              "      <td>3</td>\n",
              "      <td>-1</td>\n",
              "      <td>2</td>\n",
              "      <td>4</td>\n",
              "      <td>1</td>\n",
              "    </tr>\n",
              "    <tr>\n",
              "      <th>2</th>\n",
              "      <td>4</td>\n",
              "      <td>4</td>\n",
              "      <td>7</td>\n",
              "      <td>5</td>\n",
              "      <td>8</td>\n",
              "      <td>2</td>\n",
              "      <td>6</td>\n",
              "      <td>0</td>\n",
              "      <td>4</td>\n",
              "      <td>3</td>\n",
              "    </tr>\n",
              "    <tr>\n",
              "      <th>3</th>\n",
              "      <td>3</td>\n",
              "      <td>1</td>\n",
              "      <td>7</td>\n",
              "      <td>3</td>\n",
              "      <td>2</td>\n",
              "      <td>7</td>\n",
              "      <td>13</td>\n",
              "      <td>1</td>\n",
              "      <td>6</td>\n",
              "      <td>5</td>\n",
              "    </tr>\n",
              "    <tr>\n",
              "      <th>4</th>\n",
              "      <td>4</td>\n",
              "      <td>1</td>\n",
              "      <td>2</td>\n",
              "      <td>5</td>\n",
              "      <td>8</td>\n",
              "      <td>5</td>\n",
              "      <td>13</td>\n",
              "      <td>0</td>\n",
              "      <td>4</td>\n",
              "      <td>6</td>\n",
              "    </tr>\n",
              "  </tbody>\n",
              "</table>\n",
              "</div>\n",
              "      <button class=\"colab-df-convert\" onclick=\"convertToInteractive('df-45e1936b-76ca-46b3-8f5b-f77cd57e25c4')\"\n",
              "              title=\"Convert this dataframe to an interactive table.\"\n",
              "              style=\"display:none;\">\n",
              "        \n",
              "  <svg xmlns=\"http://www.w3.org/2000/svg\" height=\"24px\"viewBox=\"0 0 24 24\"\n",
              "       width=\"24px\">\n",
              "    <path d=\"M0 0h24v24H0V0z\" fill=\"none\"/>\n",
              "    <path d=\"M18.56 5.44l.94 2.06.94-2.06 2.06-.94-2.06-.94-.94-2.06-.94 2.06-2.06.94zm-11 1L8.5 8.5l.94-2.06 2.06-.94-2.06-.94L8.5 2.5l-.94 2.06-2.06.94zm10 10l.94 2.06.94-2.06 2.06-.94-2.06-.94-.94-2.06-.94 2.06-2.06.94z\"/><path d=\"M17.41 7.96l-1.37-1.37c-.4-.4-.92-.59-1.43-.59-.52 0-1.04.2-1.43.59L10.3 9.45l-7.72 7.72c-.78.78-.78 2.05 0 2.83L4 21.41c.39.39.9.59 1.41.59.51 0 1.02-.2 1.41-.59l7.78-7.78 2.81-2.81c.8-.78.8-2.07 0-2.86zM5.41 20L4 18.59l7.72-7.72 1.47 1.35L5.41 20z\"/>\n",
              "  </svg>\n",
              "      </button>\n",
              "      \n",
              "  <style>\n",
              "    .colab-df-container {\n",
              "      display:flex;\n",
              "      flex-wrap:wrap;\n",
              "      gap: 12px;\n",
              "    }\n",
              "\n",
              "    .colab-df-convert {\n",
              "      background-color: #E8F0FE;\n",
              "      border: none;\n",
              "      border-radius: 50%;\n",
              "      cursor: pointer;\n",
              "      display: none;\n",
              "      fill: #1967D2;\n",
              "      height: 32px;\n",
              "      padding: 0 0 0 0;\n",
              "      width: 32px;\n",
              "    }\n",
              "\n",
              "    .colab-df-convert:hover {\n",
              "      background-color: #E2EBFA;\n",
              "      box-shadow: 0px 1px 2px rgba(60, 64, 67, 0.3), 0px 1px 3px 1px rgba(60, 64, 67, 0.15);\n",
              "      fill: #174EA6;\n",
              "    }\n",
              "\n",
              "    [theme=dark] .colab-df-convert {\n",
              "      background-color: #3B4455;\n",
              "      fill: #D2E3FC;\n",
              "    }\n",
              "\n",
              "    [theme=dark] .colab-df-convert:hover {\n",
              "      background-color: #434B5C;\n",
              "      box-shadow: 0px 1px 3px 1px rgba(0, 0, 0, 0.15);\n",
              "      filter: drop-shadow(0px 1px 2px rgba(0, 0, 0, 0.3));\n",
              "      fill: #FFFFFF;\n",
              "    }\n",
              "  </style>\n",
              "\n",
              "      <script>\n",
              "        const buttonEl =\n",
              "          document.querySelector('#df-45e1936b-76ca-46b3-8f5b-f77cd57e25c4 button.colab-df-convert');\n",
              "        buttonEl.style.display =\n",
              "          google.colab.kernel.accessAllowed ? 'block' : 'none';\n",
              "\n",
              "        async function convertToInteractive(key) {\n",
              "          const element = document.querySelector('#df-45e1936b-76ca-46b3-8f5b-f77cd57e25c4');\n",
              "          const dataTable =\n",
              "            await google.colab.kernel.invokeFunction('convertToInteractive',\n",
              "                                                     [key], {});\n",
              "          if (!dataTable) return;\n",
              "\n",
              "          const docLinkHtml = 'Like what you see? Visit the ' +\n",
              "            '<a target=\"_blank\" href=https://colab.research.google.com/notebooks/data_table.ipynb>data table notebook</a>'\n",
              "            + ' to learn more about interactive tables.';\n",
              "          element.innerHTML = '';\n",
              "          dataTable['output_type'] = 'display_data';\n",
              "          await google.colab.output.renderOutput(dataTable, element);\n",
              "          const docLink = document.createElement('div');\n",
              "          docLink.innerHTML = docLinkHtml;\n",
              "          element.appendChild(docLink);\n",
              "        }\n",
              "      </script>\n",
              "    </div>\n",
              "  </div>\n",
              "  "
            ]
          },
          "metadata": {},
          "execution_count": 1
        }
      ],
      "source": [
        "import pandas as pd\n",
        "import numpy as np\n",
        "from sklearn.model_selection import train_test_split \n",
        "import warnings\n",
        "from google.colab import drive\n",
        "warnings.filterwarnings('ignore')\n",
        "\n",
        "#df = pd.read_csv(\"training_set.csv\", index_col=0).reset_index(drop=True)\n",
        "drive.mount('/content/drive')\n",
        "df = pd.read_csv('./drive/MyDrive/WUM_Proj1/training_set.csv', index_col=0).reset_index(drop=True)\n",
        "\n",
        "df.head()"
      ]
    },
    {
      "cell_type": "markdown",
      "metadata": {
        "id": "z00SU9XrJlwZ"
      },
      "source": [
        "Podział na zbiór treningowy i walidacyjny"
      ]
    },
    {
      "cell_type": "markdown",
      "metadata": {
        "id": "DbFba13BJlwZ"
      },
      "source": [
        "Podchodzimy do problemu przewidzenia rezultatu w następujący sposób:\n",
        "\n",
        "1.  klasyfikacja, czy doszło do remisu \"draw\" (u nas wartość \"-1\"), czy nie (dowolna inna wartość)\n",
        "2. regresja w celu przewidzenia ilości ruchów, dla wyników, które w pierwszym kroku zostały sklasyfikowane, że gra nie skończyła się remisem\n",
        "\n"
      ]
    },
    {
      "cell_type": "markdown",
      "metadata": {
        "id": "USi2TmfLJlwa"
      },
      "source": [
        "### Klasyfikacja \n",
        "\n",
        "#### Remisy\n",
        "Remisy nam bardzo przeszkadzają w dalszej regresji więc postaramy się je przewidzieć w inny sposób i całkowicie je pominąć przy regresji.\n",
        "\n",
        "Ponieważ zbiór danych teoretycznie przedstawia optymalne ruchy, a przewaga białego nad czarnym jest duża, remis zachodzi zapewne w jednej z dwóch sytuacji:\n",
        "    1. czarny bije białą wieżę\n",
        "    2. stalemate - czarny nie ma gdzie się ruszyć\n",
        "    \n",
        "    \n",
        "##### 1. Czarny bije białą wieżę \n",
        "Taka sytuacja zdaży się w momencie, gdy czarny król jest w odległości od białej wieży równej \"1\", a biały król jest w odległości od białej wieży większej niż \"1\". W tym celu tworzymy nową zmienną _white2rook_dst_, której nie braliśmy pod uwagę w preprocessingu (możliwe, że przyda się też potem w regresji)."
      ]
    },
    {
      "cell_type": "code",
      "execution_count": 2,
      "metadata": {
        "id": "HgH4gl_CJlwb"
      },
      "outputs": [],
      "source": [
        "def white2rookdistance(df):\n",
        "     # dystans pomiędzy białym królem i wieżą\n",
        "    return max(abs(df['white_king_file'] - df['white_rook_file']),abs(df['white_king_rank'] - df['white_rook_rank']))"
      ]
    },
    {
      "cell_type": "markdown",
      "metadata": {
        "id": "fCiSZNjKJlwb"
      },
      "source": [
        "Następnie ze otrzymanej nowej zmiennej _white2rook_dst_ i wcześniejszej _black2rook_dst_ mogę dowiedzieć się czy czarny zbije wieżę."
      ]
    },
    {
      "cell_type": "code",
      "execution_count": 3,
      "metadata": {
        "id": "AMYNhRaqJlwc"
      },
      "outputs": [],
      "source": [
        "def w2r_rt(df): \n",
        "    #white to rook distance + rook taken\n",
        "    df['white2rook_dst'] = df.apply(lambda x: white2rookdistance(x), axis = 1)\n",
        "    df[\"rook_taken\"] = np.where(\n",
        "        (df.black2rook_dst == 1) & (df.white2rook_dst != 1),\n",
        "        1,0)"
      ]
    },
    {
      "cell_type": "markdown",
      "metadata": {
        "id": "Ns20qqnKJlwc"
      },
      "source": [
        "Sprawdzając korelację pomiędzy nową zmienna _rook_taken_, a result w wersji remis/nieremis otrzymujemy następujący wynik:"
      ]
    },
    {
      "cell_type": "code",
      "execution_count": 4,
      "metadata": {
        "colab": {
          "base_uri": "https://localhost:8080/"
        },
        "id": "nXYp93ytJlwd",
        "outputId": "cdc5a97e-db69-4bda-cb2b-59911f311305"
      },
      "outputs": [
        {
          "output_type": "execute_result",
          "data": {
            "text/plain": [
              "array([[1.        , 0.99858054],\n",
              "       [0.99858054, 1.        ]])"
            ]
          },
          "metadata": {},
          "execution_count": 4
        }
      ],
      "source": [
        "w2r_rt(df)\n",
        "np.corrcoef(df.rook_taken,df.result.apply(lambda x: 1 if x == -1 else 0))   # rook_taken == 0, oznacza, że wieża będzie zbita, a tu result == 0 będzie oznaczał, że jest remis"
      ]
    },
    {
      "cell_type": "markdown",
      "metadata": {
        "id": "LUmSHll4Jlwd"
      },
      "source": [
        "Wychodzi, że korelacja jest bardzo duża."
      ]
    },
    {
      "cell_type": "code",
      "execution_count": 5,
      "metadata": {
        "colab": {
          "base_uri": "https://localhost:8080/"
        },
        "id": "-ChHBstzJlwe",
        "outputId": "744613e1-577d-4bae-a878-af3c16d630a8"
      },
      "outputs": [
        {
          "output_type": "execute_result",
          "data": {
            "text/plain": [
              "array([[17682,     5],\n",
              "       [    0,  1952]])"
            ]
          },
          "metadata": {},
          "execution_count": 5
        }
      ],
      "source": [
        "from sklearn.metrics import confusion_matrix\n",
        "confusion_matrix(df.rook_taken,df.result.apply(lambda x: 1 if x == -1 else 0))"
      ]
    },
    {
      "cell_type": "markdown",
      "metadata": {
        "id": "hjwJgf_aJlwe"
      },
      "source": [
        "Okazuje się, nowa zmienna prawie dokładnie opisuje sytuacje i popełniła tylko 5 błędów, gdy nie znajduje remisu."
      ]
    },
    {
      "cell_type": "markdown",
      "metadata": {
        "id": "V21LRuWfJlwe"
      },
      "source": [
        "*po mielstone 2*\n",
        "\n",
        "##### 2. Stalemate\n",
        "W tym przypadku wystąpi w następujących sytuacjach:"
      ]
    },
    {
      "cell_type": "markdown",
      "metadata": {
        "id": "ElpabIg8Jlwf"
      },
      "source": [
        "![pat1.jpg](attachment:pat1.jpg)"
      ]
    },
    {
      "cell_type": "markdown",
      "metadata": {
        "id": "CjW7PnImJlwf"
      },
      "source": [
        "Pierwsza sytuacja wystąpi jeśli wieża jest w dowolnym miejsu oprócz w kolumnie \"a\" w drugim rzędzie. Również w takiej samej sytuacji, ale dla lustrzanego odbicia wzdłuż diagonali idącej z lewego dolnego rogu do prawego górnego. Oczywiście też podobnie dla każdego rogu. \n",
        "\n",
        "Inaczej mówiąc jest to sytuacja, gdy jednocześnie:\n",
        "\n",
        "* czarny król jest na granicy planszy, \n",
        "* biały król jest w tym samym rzędzie/kolumnie co czarny król\n",
        "* odległość króli między sobą wynosi $2$\n",
        "* biała wieża jest przesunięta o odpowiednio jeden rząd/kolumnę od granicy planszy\n",
        "* biała wieża nie jest w tej samej kolumnie/rzędzie co czarny król, żeby nie mógł jej zbić (ta sytuacja i tak jest remisem, więc nie trzeba tego warunku brać pod uwagę)\n",
        "  "
      ]
    },
    {
      "cell_type": "markdown",
      "metadata": {
        "id": "vWgIgT8LJlwf"
      },
      "source": [
        "![pat3.jpg](attachment:pat3.jpg)"
      ]
    },
    {
      "cell_type": "markdown",
      "metadata": {
        "id": "yY7kv8FTJlwg"
      },
      "source": [
        "Druga sytuacja wystąpi tylko po 5 razy (w czym 2 znich pokrywają się z pierwszą sytuacją) w każdym rogu. Bo biały król może być na jednym z pięciu możliwych pól obok wieży.\n",
        "\n",
        "Dzieje się to przy następujących warunkach:\n",
        "\n",
        "* czarny król jest w samym rogu\n",
        "* biała wieża jest na diagonali oddalona od czarnego króla o 1\n",
        "* biały król musi być przy białej wieży (nie jest to ważny warunek, bo jeśli nie jest przy niej to i tak jest remis i wcześniej bierzemy to pod uwagę)"
      ]
    },
    {
      "cell_type": "code",
      "execution_count": 6,
      "metadata": {
        "id": "qcF4dxJzJlwg"
      },
      "outputs": [],
      "source": [
        "def drawed(df):    \n",
        "    df[\"is_draw\"] = np.where(\n",
        "        ((df.black2rook_dst == 1) & (df.white2rook_dst != 1)) |      # czarny bije wieze\n",
        "        ((df.black_king_dst == 0) & (((np.abs(df.black_king_file - df.black_king_rank)) == 0) |  ((np.abs(df.black_king_file - df.black_king_rank)) == 7)) & (df.black2white_king_dst == 2) & (((df.white_king_file == df.black_king_file) & (np.abs(df.white_rook_file - df.black_king_file) == 1)) | ((df.white_king_rank == df.black_king_rank) & (np.abs(df.white_rook_rank - df.black_king_rank) == 1)))) |  # pierwsza sytuacja\n",
        "        ((df.black_king_dst == 0) & (df.black2rook_dst == 1) & (((np.abs(df.black_king_file - df.black_king_rank)) == 0) |  ((np.abs(df.black_king_file - df.black_king_rank)) == 7)) & (((np.abs(df.white_rook_file - df.white_rook_rank)) == 0) |  ((np.abs(df.white_rook_file - df.white_rook_rank)) == 7))), # druga sytuacja\n",
        "        1,0) # znowu jest na odwrót 0 oznacza, że tak a 1 że nie\n",
        "    return df\n",
        "df = drawed(df)"
      ]
    },
    {
      "cell_type": "code",
      "execution_count": 7,
      "metadata": {
        "colab": {
          "base_uri": "https://localhost:8080/"
        },
        "id": "tbN8wzuSJlwg",
        "outputId": "8c6a0545-51d7-4415-bd8f-87079454eabb"
      },
      "outputs": [
        {
          "output_type": "execute_result",
          "data": {
            "text/plain": [
              "array([[17682,     0],\n",
              "       [    0,  1957]])"
            ]
          },
          "metadata": {},
          "execution_count": 7
        }
      ],
      "source": [
        "confusion_matrix(df.is_draw,df.result.apply(lambda x: 1 if x == -1 else 0))"
      ]
    },
    {
      "cell_type": "markdown",
      "metadata": {
        "id": "BNFr4ap2Jlwh"
      },
      "source": [
        "W ten sposób możemy przewidzieć każdy ramis/nieremis prawidłowo."
      ]
    },
    {
      "cell_type": "markdown",
      "metadata": {
        "id": "IQDpUXStJlwh"
      },
      "source": [
        "#### 0 ruchów do mata \n",
        "Wydaje się że można też jednoznacznie powiedzieć, kiedy mat już jest, czyli w zmiennej result jest wartość $0$. Sytuacja wygląda tak:"
      ]
    },
    {
      "cell_type": "markdown",
      "metadata": {
        "id": "t4ZvI1yiJlwh"
      },
      "source": [
        "![mat0.jpg](attachment:mat0.jpg)"
      ]
    },
    {
      "cell_type": "markdown",
      "metadata": {
        "id": "qiWv6RrPJlwh"
      },
      "source": [
        "lub rzadziej tak:"
      ]
    },
    {
      "cell_type": "markdown",
      "metadata": {
        "id": "ijiJJT0uJlwh"
      },
      "source": [
        "![mat2.jpg](attachment:mat2.jpg)"
      ]
    },
    {
      "cell_type": "markdown",
      "metadata": {
        "id": "A8XQsWw-Jlwi"
      },
      "source": [
        "Inaczej można powiedzieć, że jednocześnie:\n",
        "\n",
        "* czarny król jest na krawędzi planszy\n",
        "* odległość między królami jest równa 2\n",
        "* wieża nie jest zbijana (nie ma remisu)\n",
        "* wieża jest w tej samej kolumnie/rzędzie co czarny król\n",
        "* biały król jest odpowiednio w tym samym rzędzie/kolunie co czarny król\n"
      ]
    },
    {
      "cell_type": "code",
      "execution_count": 8,
      "metadata": {
        "id": "oIZ_ny7qJlwi"
      },
      "outputs": [],
      "source": [
        "def mated(df):\n",
        "    df[\"is_mated\"] = np.where(\n",
        "        (df.black_king_dst == 0) & (df.black2white_king_dst == 2) & (df.is_draw == 0) & ((((df.black_king_file == df.white_rook_file) & (df.black_king_rank == df.white_king_rank) & ((df.black_king_file == 1) | (df.black_king_file == 7)))) | ((df.black_king_rank == df.white_rook_rank) & (df.black_king_file == df.white_king_file) & ((df.black_king_rank == 1) | (df.black_king_rank == 7)))) |\n",
        "        (df.black_king_dst == 0) & (df.black2white_king_dst == 2) & (df.is_draw == 0) & (((np.abs(df.black_king_file - df.black_king_rank)) == 0) |  ((np.abs(df.black_king_file - df.black_king_rank)) == 7)) & ((((df.black_king_file == df.white_rook_file) & (np.abs(df.black_king_rank - df.white_king_rank) == 1) & ((df.black_king_file == 1) | (df.black_king_file == 7)))) | ((df.black_king_rank == df.white_rook_rank) & (np.abs(df.black_king_file - df.white_king_file) == 1) & ((df.black_king_rank == 1) | (df.black_king_rank == 7)))),\n",
        "        1,0)\n",
        "    return df\n",
        "\n",
        "df = mated(df)    "
      ]
    },
    {
      "cell_type": "code",
      "execution_count": 9,
      "metadata": {
        "colab": {
          "base_uri": "https://localhost:8080/"
        },
        "id": "I3SW9GFXJlwi",
        "outputId": "3d1330bc-6824-4664-bb14-2ff08fed9c84"
      },
      "outputs": [
        {
          "output_type": "execute_result",
          "data": {
            "text/plain": [
              "array([[19620,     0],\n",
              "       [    0,    19]])"
            ]
          },
          "metadata": {},
          "execution_count": 9
        }
      ],
      "source": [
        "confusion_matrix(df.is_mated,df.result.apply(lambda x: 1 if x == 0 else 0))"
      ]
    },
    {
      "cell_type": "markdown",
      "metadata": {
        "id": "jCcjwW4xJlwi"
      },
      "source": [
        "Macierz mówi, że wyłapaliśmy wszystkie 19 przypadków bez błędów."
      ]
    },
    {
      "cell_type": "markdown",
      "metadata": {
        "id": "Ww_Cv3JRJlwi"
      },
      "source": [
        "W Możliwe, że jeszcze można zrobić tak dla innych sytuacji, ale te dwie wydawały się najłatwiejsze."
      ]
    },
    {
      "cell_type": "markdown",
      "metadata": {
        "id": "B2TOWXRYJlwj"
      },
      "source": [
        "### 2. Regresja\n",
        "Regresję wykonujemy w celu dowiedzenia się ile ruchów będzie potrzebne do zamatowania. Wykonywać ją będziemy na części obserwacji, które w poprzedniej \"klasyfikacji\" nie zwróciły remisu lub 0 ruchów. \n"
      ]
    },
    {
      "cell_type": "code",
      "execution_count": 10,
      "metadata": {
        "colab": {
          "base_uri": "https://localhost:8080/",
          "height": 424
        },
        "id": "fj7F9W7yJlwj",
        "outputId": "6e0dd0f7-4d36-47fb-93e2-d3b00cbe7c11"
      },
      "outputs": [
        {
          "output_type": "execute_result",
          "data": {
            "text/plain": [
              "       white_king_file  white_king_rank  white_rook_file  white_rook_rank  \\\n",
              "1                    1                1                6                3   \n",
              "29                   3                2                7                5   \n",
              "39                   4                1                6                4   \n",
              "60                   2                1                2                7   \n",
              "75                   2                1                4                4   \n",
              "...                ...              ...              ...              ...   \n",
              "19634                4                2                3                8   \n",
              "19635                4                1                8                5   \n",
              "19636                2                2                4                1   \n",
              "19637                4                4                4                6   \n",
              "19638                2                2                8                6   \n",
              "\n",
              "       black_king_file  black_king_rank  result  black_king_dst  \\\n",
              "1                    5                3      -1               2   \n",
              "29                   8                6      -1               0   \n",
              "39                   5                3      -1               2   \n",
              "60                   2                6      -1               1   \n",
              "75                   3                5      -1               2   \n",
              "...                ...              ...     ...             ...   \n",
              "19634                1                3      10               0   \n",
              "19635                4                6      13               2   \n",
              "19636                8                8      12               0   \n",
              "19637                4                2       8               1   \n",
              "19638                6                5      15               2   \n",
              "\n",
              "       black2white_king_dst  black2rook_dst  white2rook_dst  rook_taken  \\\n",
              "1                         4               1               5           1   \n",
              "29                        5               1               4           1   \n",
              "39                        2               1               3           1   \n",
              "60                        5               1               6           1   \n",
              "75                        4               1               3           1   \n",
              "...                     ...             ...             ...         ...   \n",
              "19634                     3               5               6           0   \n",
              "19635                     5               4               4           0   \n",
              "19636                     6               7               2           0   \n",
              "19637                     2               4               2           0   \n",
              "19638                     4               2               6           0   \n",
              "\n",
              "       is_draw  is_mated  \n",
              "1            1         0  \n",
              "29           1         0  \n",
              "39           1         0  \n",
              "60           1         0  \n",
              "75           1         0  \n",
              "...        ...       ...  \n",
              "19634        0         0  \n",
              "19635        0         0  \n",
              "19636        0         0  \n",
              "19637        0         0  \n",
              "19638        0         0  \n",
              "\n",
              "[19639 rows x 14 columns]"
            ],
            "text/html": [
              "\n",
              "  <div id=\"df-fa707a95-5ab9-4f16-880a-9a6209806d8e\">\n",
              "    <div class=\"colab-df-container\">\n",
              "      <div>\n",
              "<style scoped>\n",
              "    .dataframe tbody tr th:only-of-type {\n",
              "        vertical-align: middle;\n",
              "    }\n",
              "\n",
              "    .dataframe tbody tr th {\n",
              "        vertical-align: top;\n",
              "    }\n",
              "\n",
              "    .dataframe thead th {\n",
              "        text-align: right;\n",
              "    }\n",
              "</style>\n",
              "<table border=\"1\" class=\"dataframe\">\n",
              "  <thead>\n",
              "    <tr style=\"text-align: right;\">\n",
              "      <th></th>\n",
              "      <th>white_king_file</th>\n",
              "      <th>white_king_rank</th>\n",
              "      <th>white_rook_file</th>\n",
              "      <th>white_rook_rank</th>\n",
              "      <th>black_king_file</th>\n",
              "      <th>black_king_rank</th>\n",
              "      <th>result</th>\n",
              "      <th>black_king_dst</th>\n",
              "      <th>black2white_king_dst</th>\n",
              "      <th>black2rook_dst</th>\n",
              "      <th>white2rook_dst</th>\n",
              "      <th>rook_taken</th>\n",
              "      <th>is_draw</th>\n",
              "      <th>is_mated</th>\n",
              "    </tr>\n",
              "  </thead>\n",
              "  <tbody>\n",
              "    <tr>\n",
              "      <th>1</th>\n",
              "      <td>1</td>\n",
              "      <td>1</td>\n",
              "      <td>6</td>\n",
              "      <td>3</td>\n",
              "      <td>5</td>\n",
              "      <td>3</td>\n",
              "      <td>-1</td>\n",
              "      <td>2</td>\n",
              "      <td>4</td>\n",
              "      <td>1</td>\n",
              "      <td>5</td>\n",
              "      <td>1</td>\n",
              "      <td>1</td>\n",
              "      <td>0</td>\n",
              "    </tr>\n",
              "    <tr>\n",
              "      <th>29</th>\n",
              "      <td>3</td>\n",
              "      <td>2</td>\n",
              "      <td>7</td>\n",
              "      <td>5</td>\n",
              "      <td>8</td>\n",
              "      <td>6</td>\n",
              "      <td>-1</td>\n",
              "      <td>0</td>\n",
              "      <td>5</td>\n",
              "      <td>1</td>\n",
              "      <td>4</td>\n",
              "      <td>1</td>\n",
              "      <td>1</td>\n",
              "      <td>0</td>\n",
              "    </tr>\n",
              "    <tr>\n",
              "      <th>39</th>\n",
              "      <td>4</td>\n",
              "      <td>1</td>\n",
              "      <td>6</td>\n",
              "      <td>4</td>\n",
              "      <td>5</td>\n",
              "      <td>3</td>\n",
              "      <td>-1</td>\n",
              "      <td>2</td>\n",
              "      <td>2</td>\n",
              "      <td>1</td>\n",
              "      <td>3</td>\n",
              "      <td>1</td>\n",
              "      <td>1</td>\n",
              "      <td>0</td>\n",
              "    </tr>\n",
              "    <tr>\n",
              "      <th>60</th>\n",
              "      <td>2</td>\n",
              "      <td>1</td>\n",
              "      <td>2</td>\n",
              "      <td>7</td>\n",
              "      <td>2</td>\n",
              "      <td>6</td>\n",
              "      <td>-1</td>\n",
              "      <td>1</td>\n",
              "      <td>5</td>\n",
              "      <td>1</td>\n",
              "      <td>6</td>\n",
              "      <td>1</td>\n",
              "      <td>1</td>\n",
              "      <td>0</td>\n",
              "    </tr>\n",
              "    <tr>\n",
              "      <th>75</th>\n",
              "      <td>2</td>\n",
              "      <td>1</td>\n",
              "      <td>4</td>\n",
              "      <td>4</td>\n",
              "      <td>3</td>\n",
              "      <td>5</td>\n",
              "      <td>-1</td>\n",
              "      <td>2</td>\n",
              "      <td>4</td>\n",
              "      <td>1</td>\n",
              "      <td>3</td>\n",
              "      <td>1</td>\n",
              "      <td>1</td>\n",
              "      <td>0</td>\n",
              "    </tr>\n",
              "    <tr>\n",
              "      <th>...</th>\n",
              "      <td>...</td>\n",
              "      <td>...</td>\n",
              "      <td>...</td>\n",
              "      <td>...</td>\n",
              "      <td>...</td>\n",
              "      <td>...</td>\n",
              "      <td>...</td>\n",
              "      <td>...</td>\n",
              "      <td>...</td>\n",
              "      <td>...</td>\n",
              "      <td>...</td>\n",
              "      <td>...</td>\n",
              "      <td>...</td>\n",
              "      <td>...</td>\n",
              "    </tr>\n",
              "    <tr>\n",
              "      <th>19634</th>\n",
              "      <td>4</td>\n",
              "      <td>2</td>\n",
              "      <td>3</td>\n",
              "      <td>8</td>\n",
              "      <td>1</td>\n",
              "      <td>3</td>\n",
              "      <td>10</td>\n",
              "      <td>0</td>\n",
              "      <td>3</td>\n",
              "      <td>5</td>\n",
              "      <td>6</td>\n",
              "      <td>0</td>\n",
              "      <td>0</td>\n",
              "      <td>0</td>\n",
              "    </tr>\n",
              "    <tr>\n",
              "      <th>19635</th>\n",
              "      <td>4</td>\n",
              "      <td>1</td>\n",
              "      <td>8</td>\n",
              "      <td>5</td>\n",
              "      <td>4</td>\n",
              "      <td>6</td>\n",
              "      <td>13</td>\n",
              "      <td>2</td>\n",
              "      <td>5</td>\n",
              "      <td>4</td>\n",
              "      <td>4</td>\n",
              "      <td>0</td>\n",
              "      <td>0</td>\n",
              "      <td>0</td>\n",
              "    </tr>\n",
              "    <tr>\n",
              "      <th>19636</th>\n",
              "      <td>2</td>\n",
              "      <td>2</td>\n",
              "      <td>4</td>\n",
              "      <td>1</td>\n",
              "      <td>8</td>\n",
              "      <td>8</td>\n",
              "      <td>12</td>\n",
              "      <td>0</td>\n",
              "      <td>6</td>\n",
              "      <td>7</td>\n",
              "      <td>2</td>\n",
              "      <td>0</td>\n",
              "      <td>0</td>\n",
              "      <td>0</td>\n",
              "    </tr>\n",
              "    <tr>\n",
              "      <th>19637</th>\n",
              "      <td>4</td>\n",
              "      <td>4</td>\n",
              "      <td>4</td>\n",
              "      <td>6</td>\n",
              "      <td>4</td>\n",
              "      <td>2</td>\n",
              "      <td>8</td>\n",
              "      <td>1</td>\n",
              "      <td>2</td>\n",
              "      <td>4</td>\n",
              "      <td>2</td>\n",
              "      <td>0</td>\n",
              "      <td>0</td>\n",
              "      <td>0</td>\n",
              "    </tr>\n",
              "    <tr>\n",
              "      <th>19638</th>\n",
              "      <td>2</td>\n",
              "      <td>2</td>\n",
              "      <td>8</td>\n",
              "      <td>6</td>\n",
              "      <td>6</td>\n",
              "      <td>5</td>\n",
              "      <td>15</td>\n",
              "      <td>2</td>\n",
              "      <td>4</td>\n",
              "      <td>2</td>\n",
              "      <td>6</td>\n",
              "      <td>0</td>\n",
              "      <td>0</td>\n",
              "      <td>0</td>\n",
              "    </tr>\n",
              "  </tbody>\n",
              "</table>\n",
              "<p>19639 rows × 14 columns</p>\n",
              "</div>\n",
              "      <button class=\"colab-df-convert\" onclick=\"convertToInteractive('df-fa707a95-5ab9-4f16-880a-9a6209806d8e')\"\n",
              "              title=\"Convert this dataframe to an interactive table.\"\n",
              "              style=\"display:none;\">\n",
              "        \n",
              "  <svg xmlns=\"http://www.w3.org/2000/svg\" height=\"24px\"viewBox=\"0 0 24 24\"\n",
              "       width=\"24px\">\n",
              "    <path d=\"M0 0h24v24H0V0z\" fill=\"none\"/>\n",
              "    <path d=\"M18.56 5.44l.94 2.06.94-2.06 2.06-.94-2.06-.94-.94-2.06-.94 2.06-2.06.94zm-11 1L8.5 8.5l.94-2.06 2.06-.94-2.06-.94L8.5 2.5l-.94 2.06-2.06.94zm10 10l.94 2.06.94-2.06 2.06-.94-2.06-.94-.94-2.06-.94 2.06-2.06.94z\"/><path d=\"M17.41 7.96l-1.37-1.37c-.4-.4-.92-.59-1.43-.59-.52 0-1.04.2-1.43.59L10.3 9.45l-7.72 7.72c-.78.78-.78 2.05 0 2.83L4 21.41c.39.39.9.59 1.41.59.51 0 1.02-.2 1.41-.59l7.78-7.78 2.81-2.81c.8-.78.8-2.07 0-2.86zM5.41 20L4 18.59l7.72-7.72 1.47 1.35L5.41 20z\"/>\n",
              "  </svg>\n",
              "      </button>\n",
              "      \n",
              "  <style>\n",
              "    .colab-df-container {\n",
              "      display:flex;\n",
              "      flex-wrap:wrap;\n",
              "      gap: 12px;\n",
              "    }\n",
              "\n",
              "    .colab-df-convert {\n",
              "      background-color: #E8F0FE;\n",
              "      border: none;\n",
              "      border-radius: 50%;\n",
              "      cursor: pointer;\n",
              "      display: none;\n",
              "      fill: #1967D2;\n",
              "      height: 32px;\n",
              "      padding: 0 0 0 0;\n",
              "      width: 32px;\n",
              "    }\n",
              "\n",
              "    .colab-df-convert:hover {\n",
              "      background-color: #E2EBFA;\n",
              "      box-shadow: 0px 1px 2px rgba(60, 64, 67, 0.3), 0px 1px 3px 1px rgba(60, 64, 67, 0.15);\n",
              "      fill: #174EA6;\n",
              "    }\n",
              "\n",
              "    [theme=dark] .colab-df-convert {\n",
              "      background-color: #3B4455;\n",
              "      fill: #D2E3FC;\n",
              "    }\n",
              "\n",
              "    [theme=dark] .colab-df-convert:hover {\n",
              "      background-color: #434B5C;\n",
              "      box-shadow: 0px 1px 3px 1px rgba(0, 0, 0, 0.15);\n",
              "      filter: drop-shadow(0px 1px 2px rgba(0, 0, 0, 0.3));\n",
              "      fill: #FFFFFF;\n",
              "    }\n",
              "  </style>\n",
              "\n",
              "      <script>\n",
              "        const buttonEl =\n",
              "          document.querySelector('#df-fa707a95-5ab9-4f16-880a-9a6209806d8e button.colab-df-convert');\n",
              "        buttonEl.style.display =\n",
              "          google.colab.kernel.accessAllowed ? 'block' : 'none';\n",
              "\n",
              "        async function convertToInteractive(key) {\n",
              "          const element = document.querySelector('#df-fa707a95-5ab9-4f16-880a-9a6209806d8e');\n",
              "          const dataTable =\n",
              "            await google.colab.kernel.invokeFunction('convertToInteractive',\n",
              "                                                     [key], {});\n",
              "          if (!dataTable) return;\n",
              "\n",
              "          const docLinkHtml = 'Like what you see? Visit the ' +\n",
              "            '<a target=\"_blank\" href=https://colab.research.google.com/notebooks/data_table.ipynb>data table notebook</a>'\n",
              "            + ' to learn more about interactive tables.';\n",
              "          element.innerHTML = '';\n",
              "          dataTable['output_type'] = 'display_data';\n",
              "          await google.colab.output.renderOutput(dataTable, element);\n",
              "          const docLink = document.createElement('div');\n",
              "          docLink.innerHTML = docLinkHtml;\n",
              "          element.appendChild(docLink);\n",
              "        }\n",
              "      </script>\n",
              "    </div>\n",
              "  </div>\n",
              "  "
            ]
          },
          "metadata": {},
          "execution_count": 10
        }
      ],
      "source": [
        "df.sort_values(by = [\"is_draw\",\"is_mated\"], ascending= False)"
      ]
    },
    {
      "cell_type": "code",
      "execution_count": 11,
      "metadata": {
        "id": "w7qSvzywJlwj"
      },
      "outputs": [],
      "source": [
        "def drop_predicted(df):\n",
        "    # do regresji zostawiamy tylko te wiersze, których nie przewidzieliśmy\n",
        "    # na początku sortujemy w ten spoosb, aby remisy były na początku, a potem maty, żeby potem łatwiej połączyć ramkę, i nie musiec pamietac o indexach\n",
        "    df_sorted = df.sort_values(by = [\"is_draw\",\"is_mated\"], ascending= False).reset_index(drop=True) \n",
        "    df_draws = df_sorted.drop(index=np.where(df_sorted.is_draw != 1)[0])\n",
        "    df_mates = df_sorted.drop(index=np.where(df_sorted.is_mated != 1)[0])\n",
        "    df_sorted_dropped = df_sorted.drop(index=np.where(((df_sorted.is_draw == 1) | (df_sorted.is_mated == 1)))[0])\n",
        "    return df_draws, df_mates, df_sorted_dropped\n",
        "\n",
        "df_draws, df_mates, df_sorted_dropped = drop_predicted(df)"
      ]
    },
    {
      "cell_type": "markdown",
      "metadata": {
        "id": "H7AhjpYnJlwj"
      },
      "source": [
        "Dalej podzielimy zbiór przeznaczony dla regresji."
      ]
    },
    {
      "cell_type": "code",
      "execution_count": 12,
      "metadata": {
        "id": "GWyWCHB5Jlwj"
      },
      "outputs": [],
      "source": [
        "train_X, test_X, train_y, test_y = train_test_split(df_sorted_dropped.drop(columns = [\"result\"]), df_sorted_dropped.result, \n",
        "                                                    test_size = 0.3, random_state= 420, stratify=df_sorted_dropped.result)"
      ]
    },
    {
      "cell_type": "markdown",
      "metadata": {
        "id": "Mf3j9zQEJlwj"
      },
      "source": [
        "I poszukamy modelu, który będzie dobrze przewidywał:\n"
      ]
    },
    {
      "cell_type": "markdown",
      "metadata": {
        "id": "kydBvnrcJlwk"
      },
      "source": [
        "#### 1. SVM"
      ]
    },
    {
      "cell_type": "code",
      "execution_count": null,
      "metadata": {
        "colab": {
          "base_uri": "https://localhost:8080/"
        },
        "id": "Rlx_hM_mJlwk",
        "outputId": "3aff76ca-6fae-4a07-a295-d44720f82d04"
      },
      "outputs": [
        {
          "output_type": "execute_result",
          "data": {
            "text/plain": [
              "0.7978406426647842"
            ]
          },
          "metadata": {},
          "execution_count": 13
        }
      ],
      "source": [
        "from sklearn import svm\n",
        "regr = svm.SVR()\n",
        "regr.fit(train_X,train_y)\n",
        "regr.score(test_X,test_y)"
      ]
    },
    {
      "cell_type": "code",
      "execution_count": null,
      "metadata": {
        "id": "s4gpFxKvJlwk"
      },
      "outputs": [],
      "source": [
        "svr_rbf = svm.SVR(kernel=\"rbf\", C=10, gamma=0.1, epsilon=0.1)\n",
        "svr_lin = svm.SVR(kernel=\"linear\", C=10, gamma=\"auto\")\n",
        "svr_poly = svm.SVR(kernel=\"poly\", C=10, gamma=\"auto\", degree=2, epsilon=0.1, coef0=1)\n"
      ]
    },
    {
      "cell_type": "code",
      "execution_count": null,
      "metadata": {
        "id": "9K24yzmBJlwk",
        "outputId": "f9b07f71-00ef-4c7e-afdc-c45442a2eceb"
      },
      "outputs": [
        {
          "data": {
            "text/plain": [
              "0.8958745147446084"
            ]
          },
          "execution_count": 15,
          "metadata": {},
          "output_type": "execute_result"
        }
      ],
      "source": [
        "svr_rbf.fit(train_X,train_y)\n",
        "svr_rbf.score(test_X,test_y)"
      ]
    },
    {
      "cell_type": "code",
      "execution_count": null,
      "metadata": {
        "id": "UpFmcz1vJlwk",
        "outputId": "9a9cb430-d41c-4192-d9d9-371e127f74a1"
      },
      "outputs": [
        {
          "data": {
            "text/plain": [
              "0.6262440748703143"
            ]
          },
          "execution_count": 16,
          "metadata": {},
          "output_type": "execute_result"
        }
      ],
      "source": [
        "svr_lin.fit(train_X,train_y)\n",
        "svr_lin.score(test_X,test_y)"
      ]
    },
    {
      "cell_type": "code",
      "execution_count": null,
      "metadata": {
        "id": "_GGFiJrmJlwl",
        "outputId": "37c6d8db-2cce-4ec0-a837-3fb1d1b347c0"
      },
      "outputs": [
        {
          "data": {
            "text/plain": [
              "0.7799993281174267"
            ]
          },
          "execution_count": 17,
          "metadata": {},
          "output_type": "execute_result"
        }
      ],
      "source": [
        "svr_poly.fit(train_X,train_y)\n",
        "svr_poly.score(test_X,test_y)"
      ]
    },
    {
      "cell_type": "markdown",
      "metadata": {
        "id": "REDPNW3cJlwl"
      },
      "source": [
        "Najlepiej spisał się model z kernelem \"rbf\"."
      ]
    },
    {
      "cell_type": "markdown",
      "metadata": {
        "id": "_ki_HNzHJlwl"
      },
      "source": [
        "#### 2. Regresja liniowa "
      ]
    },
    {
      "cell_type": "code",
      "execution_count": null,
      "metadata": {
        "id": "xyqbq9qbJlwl",
        "outputId": "bf376b7b-e65d-4f06-9374-739523f3f06c"
      },
      "outputs": [
        {
          "data": {
            "text/plain": [
              "0.6450498764183665"
            ]
          },
          "execution_count": 18,
          "metadata": {},
          "output_type": "execute_result"
        }
      ],
      "source": [
        "from sklearn.linear_model import LinearRegression\n",
        "lr = LinearRegression()\n",
        "lr.fit(train_X,train_y)\n",
        "lr.score(test_X,test_y)"
      ]
    },
    {
      "cell_type": "markdown",
      "metadata": {
        "id": "CYrtTrqSJlwm"
      },
      "source": [
        "#### 3. Lasso"
      ]
    },
    {
      "cell_type": "code",
      "execution_count": null,
      "metadata": {
        "id": "yxKvuHnHJlwm",
        "outputId": "925a97be-7d2a-41d8-9760-57e91a96b970"
      },
      "outputs": [
        {
          "data": {
            "text/plain": [
              "0.6392556702318462"
            ]
          },
          "execution_count": 19,
          "metadata": {},
          "output_type": "execute_result"
        }
      ],
      "source": [
        "from sklearn.linear_model import Lasso\n",
        "las = Lasso(alpha=0.1)\n",
        "las.fit(train_X,train_y)\n",
        "las.score(test_X,test_y)"
      ]
    },
    {
      "cell_type": "markdown",
      "metadata": {
        "id": "jAr338yhJlwm"
      },
      "source": [
        "#### 4. Kernel Ridge"
      ]
    },
    {
      "cell_type": "code",
      "execution_count": null,
      "metadata": {
        "id": "Ae61__nKJlwm",
        "outputId": "50ea5585-7db4-4da0-e686-be14de559a72"
      },
      "outputs": [
        {
          "data": {
            "text/plain": [
              "0.44628360699724234"
            ]
          },
          "execution_count": 20,
          "metadata": {},
          "output_type": "execute_result"
        }
      ],
      "source": [
        "from sklearn.kernel_ridge import KernelRidge\n",
        "krr = KernelRidge(alpha=0.1)\n",
        "krr.fit(train_X,train_y)\n",
        "krr.score(test_X,test_y)"
      ]
    },
    {
      "cell_type": "markdown",
      "source": [
        "#### 5. Klasyfikacja"
      ],
      "metadata": {
        "id": "0SI9JKf6PDCU"
      }
    },
    {
      "cell_type": "code",
      "source": [
        "!pip install scikit-plot\n",
        "!pip install catboost\n",
        "!pip install eli5"
      ],
      "metadata": {
        "colab": {
          "base_uri": "https://localhost:8080/"
        },
        "id": "9t2iyjfxQ6_M",
        "outputId": "0543c304-d696-46e5-d508-11075c44a2ab"
      },
      "execution_count": 13,
      "outputs": [
        {
          "output_type": "stream",
          "name": "stdout",
          "text": [
            "Collecting scikit-plot\n",
            "  Downloading scikit_plot-0.3.7-py3-none-any.whl (33 kB)\n",
            "Requirement already satisfied: scikit-learn>=0.18 in /usr/local/lib/python3.7/dist-packages (from scikit-plot) (1.0.2)\n",
            "Requirement already satisfied: matplotlib>=1.4.0 in /usr/local/lib/python3.7/dist-packages (from scikit-plot) (3.2.2)\n",
            "Requirement already satisfied: joblib>=0.10 in /usr/local/lib/python3.7/dist-packages (from scikit-plot) (1.1.0)\n",
            "Requirement already satisfied: scipy>=0.9 in /usr/local/lib/python3.7/dist-packages (from scikit-plot) (1.4.1)\n",
            "Requirement already satisfied: numpy>=1.11 in /usr/local/lib/python3.7/dist-packages (from matplotlib>=1.4.0->scikit-plot) (1.21.6)\n",
            "Requirement already satisfied: cycler>=0.10 in /usr/local/lib/python3.7/dist-packages (from matplotlib>=1.4.0->scikit-plot) (0.11.0)\n",
            "Requirement already satisfied: pyparsing!=2.0.4,!=2.1.2,!=2.1.6,>=2.0.1 in /usr/local/lib/python3.7/dist-packages (from matplotlib>=1.4.0->scikit-plot) (3.0.8)\n",
            "Requirement already satisfied: kiwisolver>=1.0.1 in /usr/local/lib/python3.7/dist-packages (from matplotlib>=1.4.0->scikit-plot) (1.4.2)\n",
            "Requirement already satisfied: python-dateutil>=2.1 in /usr/local/lib/python3.7/dist-packages (from matplotlib>=1.4.0->scikit-plot) (2.8.2)\n",
            "Requirement already satisfied: typing-extensions in /usr/local/lib/python3.7/dist-packages (from kiwisolver>=1.0.1->matplotlib>=1.4.0->scikit-plot) (4.1.1)\n",
            "Requirement already satisfied: six>=1.5 in /usr/local/lib/python3.7/dist-packages (from python-dateutil>=2.1->matplotlib>=1.4.0->scikit-plot) (1.15.0)\n",
            "Requirement already satisfied: threadpoolctl>=2.0.0 in /usr/local/lib/python3.7/dist-packages (from scikit-learn>=0.18->scikit-plot) (3.1.0)\n",
            "Installing collected packages: scikit-plot\n",
            "Successfully installed scikit-plot-0.3.7\n",
            "Collecting catboost\n",
            "  Downloading catboost-1.0.5-cp37-none-manylinux1_x86_64.whl (76.6 MB)\n",
            "\u001b[K     |████████████████████████████████| 76.6 MB 1.2 MB/s \n",
            "\u001b[?25hRequirement already satisfied: graphviz in /usr/local/lib/python3.7/dist-packages (from catboost) (0.10.1)\n",
            "Requirement already satisfied: scipy in /usr/local/lib/python3.7/dist-packages (from catboost) (1.4.1)\n",
            "Requirement already satisfied: pandas>=0.24.0 in /usr/local/lib/python3.7/dist-packages (from catboost) (1.3.5)\n",
            "Requirement already satisfied: six in /usr/local/lib/python3.7/dist-packages (from catboost) (1.15.0)\n",
            "Requirement already satisfied: numpy>=1.16.0 in /usr/local/lib/python3.7/dist-packages (from catboost) (1.21.6)\n",
            "Requirement already satisfied: plotly in /usr/local/lib/python3.7/dist-packages (from catboost) (5.5.0)\n",
            "Requirement already satisfied: matplotlib in /usr/local/lib/python3.7/dist-packages (from catboost) (3.2.2)\n",
            "Requirement already satisfied: python-dateutil>=2.7.3 in /usr/local/lib/python3.7/dist-packages (from pandas>=0.24.0->catboost) (2.8.2)\n",
            "Requirement already satisfied: pytz>=2017.3 in /usr/local/lib/python3.7/dist-packages (from pandas>=0.24.0->catboost) (2022.1)\n",
            "Requirement already satisfied: pyparsing!=2.0.4,!=2.1.2,!=2.1.6,>=2.0.1 in /usr/local/lib/python3.7/dist-packages (from matplotlib->catboost) (3.0.8)\n",
            "Requirement already satisfied: cycler>=0.10 in /usr/local/lib/python3.7/dist-packages (from matplotlib->catboost) (0.11.0)\n",
            "Requirement already satisfied: kiwisolver>=1.0.1 in /usr/local/lib/python3.7/dist-packages (from matplotlib->catboost) (1.4.2)\n",
            "Requirement already satisfied: typing-extensions in /usr/local/lib/python3.7/dist-packages (from kiwisolver>=1.0.1->matplotlib->catboost) (4.1.1)\n",
            "Requirement already satisfied: tenacity>=6.2.0 in /usr/local/lib/python3.7/dist-packages (from plotly->catboost) (8.0.1)\n",
            "Installing collected packages: catboost\n",
            "Successfully installed catboost-1.0.5\n",
            "Collecting eli5\n",
            "  Downloading eli5-0.11.0-py2.py3-none-any.whl (106 kB)\n",
            "\u001b[K     |████████████████████████████████| 106 kB 15.4 MB/s \n",
            "\u001b[?25hRequirement already satisfied: graphviz in /usr/local/lib/python3.7/dist-packages (from eli5) (0.10.1)\n",
            "Requirement already satisfied: jinja2 in /usr/local/lib/python3.7/dist-packages (from eli5) (2.11.3)\n",
            "Requirement already satisfied: numpy>=1.9.0 in /usr/local/lib/python3.7/dist-packages (from eli5) (1.21.6)\n",
            "Requirement already satisfied: tabulate>=0.7.7 in /usr/local/lib/python3.7/dist-packages (from eli5) (0.8.9)\n",
            "Requirement already satisfied: attrs>16.0.0 in /usr/local/lib/python3.7/dist-packages (from eli5) (21.4.0)\n",
            "Requirement already satisfied: six in /usr/local/lib/python3.7/dist-packages (from eli5) (1.15.0)\n",
            "Requirement already satisfied: scikit-learn>=0.20 in /usr/local/lib/python3.7/dist-packages (from eli5) (1.0.2)\n",
            "Requirement already satisfied: scipy in /usr/local/lib/python3.7/dist-packages (from eli5) (1.4.1)\n",
            "Requirement already satisfied: threadpoolctl>=2.0.0 in /usr/local/lib/python3.7/dist-packages (from scikit-learn>=0.20->eli5) (3.1.0)\n",
            "Requirement already satisfied: joblib>=0.11 in /usr/local/lib/python3.7/dist-packages (from scikit-learn>=0.20->eli5) (1.1.0)\n",
            "Requirement already satisfied: MarkupSafe>=0.23 in /usr/local/lib/python3.7/dist-packages (from jinja2->eli5) (2.0.1)\n",
            "Installing collected packages: eli5\n",
            "Successfully installed eli5-0.11.0\n"
          ]
        }
      ]
    },
    {
      "cell_type": "code",
      "source": [
        "from sklearn.linear_model import LogisticRegression\n",
        "from sklearn.tree import DecisionTreeClassifier\n",
        "from sklearn.ensemble import RandomForestClassifier, ExtraTreesClassifier\n",
        "import scikitplot as skplt\n",
        "from scikitplot.estimators import plot_learning_curve\n",
        "from sklearn.metrics import make_scorer, f1_score, precision_score, recall_score, accuracy_score\n",
        "from sklearn.metrics import classification_report, roc_curve, roc_auc_score, confusion_matrix\n",
        "from sklearn.model_selection import cross_val_score, train_test_split\n",
        "from sklearn.model_selection import train_test_split\n",
        "from sklearn.metrics import plot_confusion_matrix\n",
        "from sklearn.model_selection import StratifiedShuffleSplit\n",
        "\n",
        "import xgboost as xgb\n",
        "import lightgbm as lgb\n",
        "import catboost as ctb\n",
        "\n",
        "import matplotlib.pyplot as plt\n",
        "import matplotlib.image as mpimg\n",
        "\n",
        "import seaborn as sns\n",
        "import glob\n",
        "\n",
        "from skimage import color, exposure\n",
        "from sklearn.metrics import classification_report\n",
        "\n",
        "\n",
        "from time import time\n",
        "import scipy.stats as stats\n",
        "from sklearn.utils.fixes import loguniform\n",
        "from scipy.stats import uniform\n",
        "\n",
        "from functools import partial\n",
        "from hyperopt import fmin, tpe, hp, STATUS_OK, Trials\n",
        "\n",
        "import re\n",
        "import eli5\n",
        "from eli5.sklearn import PermutationImportance\n",
        "metrics = {\n",
        "    'accuracy': accuracy_score,\n",
        "    'recall': recall_score,\n",
        "    'precision': precision_score,\n",
        "    'f1_score': f1_score,\n",
        "    'roc_auc': roc_auc_score,\n",
        "}\n",
        "\n",
        "models = {\n",
        "    'LGR': LogisticRegression(solver = 'lbfgs', random_state=42, verbose=0),\n",
        "    'DTC': DecisionTreeClassifier(random_state=42),\n",
        "    'RFC': RandomForestClassifier(random_state=42),\n",
        "    'ETC': ExtraTreesClassifier(random_state=42),\n",
        "    'XGB': xgb.XGBClassifier(random_state=42),\n",
        "    'LGBM': lgb.LGBMClassifier(random_state=42),\n",
        "    'CTB': ctb.CatBoostClassifier(verbose=0),\n",
        "}"
      ],
      "metadata": {
        "id": "JYoE2gATPCEB"
      },
      "execution_count": 14,
      "outputs": []
    },
    {
      "cell_type": "code",
      "source": [
        "for model in models.items():\n",
        "    print(model[0])\n",
        "    model[1].fit(train_X,train_y)\n",
        "    print(model[1].score(test_X,test_y))"
      ],
      "metadata": {
        "colab": {
          "base_uri": "https://localhost:8080/"
        },
        "id": "AU9QqwQCRAzM",
        "outputId": "62fdd166-94a8-4c0c-c805-aa3db30cbd5d"
      },
      "execution_count": 15,
      "outputs": [
        {
          "output_type": "stream",
          "name": "stdout",
          "text": [
            "LGR\n",
            "0.37912813738441214\n",
            "DTC\n",
            "0.7844876391772032\n",
            "RFC\n",
            "0.6957916588035479\n",
            "ETC\n",
            "0.6261558784676354\n",
            "XGB\n",
            "0.5114172485374598\n",
            "LGBM\n",
            "0.7225891677675033\n",
            "CTB\n",
            "0.7661822985468957\n"
          ]
        }
      ]
    },
    {
      "cell_type": "code",
      "source": [
        "model = models['DTC']\n",
        "from sklearn.model_selection import GridSearchCV\n",
        "max_depth_space = np.array([None,20])\n",
        "min_split_space = np.arange(1, 10)\n",
        "min_leaf_space = np.arange(1, 10)\n",
        "min_weight_space = np.linspace(0,1,10)\n",
        "max_leaf_space = np.array([None,1,2,3,4,5,6,10,30,100])\n",
        "space ={\n",
        "        'criterion': ['gini', 'entropy'],\n",
        "        'splitter': ['best','random'],\n",
        "        # 'max_depth': max_depth_space,\n",
        "        'min_samples_split': min_split_space,\n",
        "        'min_samples_leaf': min_leaf_space,\n",
        "        # 'min_weight_fraction_leaf':min_weight_space,\n",
        "        #'random_state': [42,420],\n",
        "        # 'max_leaf_nodes': max_leaf_space,\n",
        "        'min_impurity_decrease' : np.arange(0,2,10),\n",
        "        'ccp_alpha' : np.arange(0,2,10)\n",
        "    }\n",
        "g_cv = GridSearchCV(model,space)\n",
        "g_cv.fit(df_sorted_dropped.drop(columns = [\"result\"]), df_sorted_dropped.result)\n",
        "print(\"Tuned Parameter: {}\".format(g_cv.best_params_))\n",
        "print(\"Tuned Accuracy: {}\".format(g_cv.best_score_))"
      ],
      "metadata": {
        "id": "kTzys9IsST-5",
        "colab": {
          "base_uri": "https://localhost:8080/"
        },
        "outputId": "6f43ca6a-ea25-40be-af68-81aae8853bc5"
      },
      "execution_count": 41,
      "outputs": [
        {
          "output_type": "stream",
          "name": "stdout",
          "text": [
            "Tuned Parameter: {'ccp_alpha': 0, 'criterion': 'entropy', 'min_impurity_decrease': 0, 'min_samples_leaf': 1, 'min_samples_split': 2, 'splitter': 'best'}\n",
            "Tuned Accuracy: 0.7962413760053646\n"
          ]
        }
      ]
    },
    {
      "cell_type": "code",
      "source": [
        "final_model = DecisionTreeClassifier(criterion='entropy',\n",
        "                                     random_state=42)\n",
        "final_model.fit(train_X,train_y)\n",
        "final_model.score(test_X,test_y)"
      ],
      "metadata": {
        "colab": {
          "base_uri": "https://localhost:8080/"
        },
        "id": "qhi70sWKxtbd",
        "outputId": "01957f50-b5aa-4d8d-bf66-ad8220669867"
      },
      "execution_count": 46,
      "outputs": [
        {
          "output_type": "execute_result",
          "data": {
            "text/plain": [
              "0.7861860728439328"
            ]
          },
          "metadata": {},
          "execution_count": 46
        }
      ]
    },
    {
      "cell_type": "code",
      "source": [
        "ctb_model = ctb.CatBoostClassifier(verbose=0)"
      ],
      "metadata": {
        "id": "8Y2w3oF08GXT"
      },
      "execution_count": 50,
      "outputs": []
    },
    {
      "cell_type": "code",
      "source": [
        "ctb_model.fit(train_X,train_y)\n",
        "ctb_model.score(test_X,test_y)"
      ],
      "metadata": {
        "colab": {
          "base_uri": "https://localhost:8080/"
        },
        "id": "rWdU5Agt8JEZ",
        "outputId": "6c5e816a-6d05-48ba-e674-00a435c7609b"
      },
      "execution_count": 51,
      "outputs": [
        {
          "output_type": "execute_result",
          "data": {
            "text/plain": [
              "0.7661822985468957"
            ]
          },
          "metadata": {},
          "execution_count": 51
        }
      ]
    },
    {
      "cell_type": "code",
      "source": [
        "def get_predictions_fulldf(df_draws2,df_mates2,df_sorted_dropped2,estimator):\n",
        "    # \n",
        "    regr_pred = estimator.predict(df_sorted_dropped2.drop(columns=\"result\"))\n",
        "    print(regr_pred)\n",
        "    draws = np.ones(df_draws2.shape[0])*-1 #-1 oznaczało u nas wcześniej draw\n",
        "    mates = np.zeros(df_mates2.shape[0])\n",
        "    prediction = np.concatenate((draws,mates,regr_pred))\n",
        "    df_concat = pd.concat([df_draws2,df_mates2,df_sorted_dropped2])\n",
        "    return df_concat,prediction\n",
        "\n",
        "df_concat,prediction = get_predictions_fulldf(df_draws,df_mates,df_sorted_dropped,final_model)\n",
        "test_pred = final_model.predict(test_X)"
      ],
      "metadata": {
        "colab": {
          "base_uri": "https://localhost:8080/"
        },
        "id": "EZ3KOgJA6mEf",
        "outputId": "6e12ec91-03b9-4981-b05f-856b367f0e68"
      },
      "execution_count": 93,
      "outputs": [
        {
          "output_type": "stream",
          "name": "stdout",
          "text": [
            "[13  6 13 ... 12  8 15]\n"
          ]
        }
      ]
    },
    {
      "cell_type": "code",
      "source": [
        "import itertools\n",
        "import numpy as np\n",
        "import matplotlib.pyplot as plt\n",
        "from sklearn.metrics import confusion_matrix\n",
        "def plot_confusion_matrix(cm, classes,\n",
        "                          title='Confusion matrix',\n",
        "                          cmap=plt.cm.Blues):\n",
        "    \"\"\"\n",
        "    This function prints and plots the confusion matrix.\n",
        "    Normalization can be applied by setting normalize=True.\n",
        "    \"\"\"\n",
        "    cm = cm.astype('float') / cm.sum(axis=1)[:, np.newaxis]\n",
        "    plt.imshow(cm, interpolation='nearest', cmap=cmap)\n",
        "    plt.title(title)\n",
        "    plt.colorbar()\n",
        "    tick_marks = np.arange(len(classes))\n",
        "    plt.xticks(tick_marks, classes, rotation=45)\n",
        "    plt.yticks(tick_marks, classes)\n",
        "\n",
        "    fmt = '.2f'\n",
        "    thresh = cm.max() / 2.\n",
        "    for i, j in itertools.product(range(cm.shape[0]), range(cm.shape[1])):\n",
        "        plt.text(j, i, format(cm[i, j], fmt),\n",
        "                 horizontalalignment=\"center\",\n",
        "                 color=\"white\" if cm[i, j] > thresh else \"black\")\n",
        "\n",
        "    plt.tight_layout()\n",
        "    plt.ylabel('True label')\n",
        "    plt.xlabel('Predicted label')\n",
        "cm = confusion_matrix(test_y, test_pred)\n",
        "classes = range(-1,18)\n",
        "plt.figure(figsize=(10,10))\n",
        "plot_confusion_matrix(cm, classes,title='Confusion matrix')"
      ],
      "metadata": {
        "id": "lPJlIirX6Q7a"
      },
      "execution_count": null,
      "outputs": []
    },
    {
      "cell_type": "markdown",
      "source": [
        "### Test set + ensembling"
      ],
      "metadata": {
        "id": "2Ha0O8sVG8V5"
      }
    },
    {
      "cell_type": "code",
      "source": [
        "df_test = pd.read_csv('./drive/MyDrive/WUM_Proj1/test_set.csv',index_col=0).reset_index(drop=True)\n",
        "w2r_rt(df_test)\n",
        "confusion_matrix(df_test.rook_taken,df_test.result.apply(lambda x: 1 if x == -1 else 0))"
      ],
      "metadata": {
        "colab": {
          "base_uri": "https://localhost:8080/"
        },
        "id": "sVfMvG2eHY68",
        "outputId": "f7645732-c8dd-4af2-cef0-d7bf1cf85379"
      },
      "execution_count": 77,
      "outputs": [
        {
          "output_type": "execute_result",
          "data": {
            "text/plain": [
              "array([[7578,    4],\n",
              "       [   0,  835]])"
            ]
          },
          "metadata": {},
          "execution_count": 77
        }
      ]
    },
    {
      "cell_type": "code",
      "source": [
        "df_test = drawed(df_test)\n",
        "confusion_matrix(df_test.is_draw,df_test.result.apply(lambda x: 1 if x == -1 else 0))"
      ],
      "metadata": {
        "colab": {
          "base_uri": "https://localhost:8080/"
        },
        "id": "zR73IknvHL4e",
        "outputId": "4f0d8310-07b6-4221-d23d-cd26ed94ac03"
      },
      "execution_count": 79,
      "outputs": [
        {
          "output_type": "execute_result",
          "data": {
            "text/plain": [
              "array([[7578,    0],\n",
              "       [   0,  839]])"
            ]
          },
          "metadata": {},
          "execution_count": 79
        }
      ]
    },
    {
      "cell_type": "code",
      "source": [
        "df_test = mated(df_test) \n",
        "confusion_matrix(df_test.is_mated,df_test.result.apply(lambda x: 1 if x == 0 else 0))"
      ],
      "metadata": {
        "colab": {
          "base_uri": "https://localhost:8080/"
        },
        "id": "AwcRIkBOHva1",
        "outputId": "8346d80e-0976-46a9-ffb2-b1153c338350"
      },
      "execution_count": 81,
      "outputs": [
        {
          "output_type": "execute_result",
          "data": {
            "text/plain": [
              "array([[8409,    0],\n",
              "       [   0,    8]])"
            ]
          },
          "metadata": {},
          "execution_count": 81
        }
      ]
    },
    {
      "cell_type": "code",
      "source": [
        "df_test.sort_values(by = [\"is_draw\",\"is_mated\"], ascending= False)"
      ],
      "metadata": {
        "colab": {
          "base_uri": "https://localhost:8080/",
          "height": 424
        },
        "id": "l4K79kK4IK-e",
        "outputId": "45db47b4-149a-4726-d19e-1e1135770341"
      },
      "execution_count": 82,
      "outputs": [
        {
          "output_type": "execute_result",
          "data": {
            "text/plain": [
              "      white_king_file  white_king_rank  white_rook_file  white_rook_rank  \\\n",
              "6                   2                1                4                2   \n",
              "30                  2                1                7                5   \n",
              "54                  2                1                8                2   \n",
              "58                  4                4                7                1   \n",
              "61                  2                2                6                6   \n",
              "...               ...              ...              ...              ...   \n",
              "8412                4                1                4                4   \n",
              "8413                2                1                6                4   \n",
              "8414                4                1                5                4   \n",
              "8415                1                1                6                7   \n",
              "8416                4                1                5                3   \n",
              "\n",
              "      black_king_file  black_king_rank  result  black_king_dst  \\\n",
              "6                   3                3      -1               2   \n",
              "30                  6                5      -1               2   \n",
              "54                  7                2      -1               1   \n",
              "58                  7                2      -1               1   \n",
              "61                  5                5      -1               3   \n",
              "...               ...              ...     ...             ...   \n",
              "8412                8                8      10               0   \n",
              "8413                8                8      11               0   \n",
              "8414                4                7      13               1   \n",
              "8415                7                1      12               0   \n",
              "8416                1                5      13               0   \n",
              "\n",
              "      black2white_king_dst  black2rook_dst  white2rook_dst  rook_taken  \\\n",
              "6                        2               1               2           1   \n",
              "30                       4               1               5           1   \n",
              "54                       5               1               6           1   \n",
              "58                       3               1               3           1   \n",
              "61                       3               1               4           1   \n",
              "...                    ...             ...             ...         ...   \n",
              "8412                     7               4               3           0   \n",
              "8413                     7               4               4           0   \n",
              "8414                     6               3               3           0   \n",
              "8415                     6               6               6           0   \n",
              "8416                     4               4               2           0   \n",
              "\n",
              "      is_draw  is_mated  \n",
              "6           1         0  \n",
              "30          1         0  \n",
              "54          1         0  \n",
              "58          1         0  \n",
              "61          1         0  \n",
              "...       ...       ...  \n",
              "8412        0         0  \n",
              "8413        0         0  \n",
              "8414        0         0  \n",
              "8415        0         0  \n",
              "8416        0         0  \n",
              "\n",
              "[8417 rows x 14 columns]"
            ],
            "text/html": [
              "\n",
              "  <div id=\"df-70d0599c-4025-4923-b6bb-2ac2f252a07a\">\n",
              "    <div class=\"colab-df-container\">\n",
              "      <div>\n",
              "<style scoped>\n",
              "    .dataframe tbody tr th:only-of-type {\n",
              "        vertical-align: middle;\n",
              "    }\n",
              "\n",
              "    .dataframe tbody tr th {\n",
              "        vertical-align: top;\n",
              "    }\n",
              "\n",
              "    .dataframe thead th {\n",
              "        text-align: right;\n",
              "    }\n",
              "</style>\n",
              "<table border=\"1\" class=\"dataframe\">\n",
              "  <thead>\n",
              "    <tr style=\"text-align: right;\">\n",
              "      <th></th>\n",
              "      <th>white_king_file</th>\n",
              "      <th>white_king_rank</th>\n",
              "      <th>white_rook_file</th>\n",
              "      <th>white_rook_rank</th>\n",
              "      <th>black_king_file</th>\n",
              "      <th>black_king_rank</th>\n",
              "      <th>result</th>\n",
              "      <th>black_king_dst</th>\n",
              "      <th>black2white_king_dst</th>\n",
              "      <th>black2rook_dst</th>\n",
              "      <th>white2rook_dst</th>\n",
              "      <th>rook_taken</th>\n",
              "      <th>is_draw</th>\n",
              "      <th>is_mated</th>\n",
              "    </tr>\n",
              "  </thead>\n",
              "  <tbody>\n",
              "    <tr>\n",
              "      <th>6</th>\n",
              "      <td>2</td>\n",
              "      <td>1</td>\n",
              "      <td>4</td>\n",
              "      <td>2</td>\n",
              "      <td>3</td>\n",
              "      <td>3</td>\n",
              "      <td>-1</td>\n",
              "      <td>2</td>\n",
              "      <td>2</td>\n",
              "      <td>1</td>\n",
              "      <td>2</td>\n",
              "      <td>1</td>\n",
              "      <td>1</td>\n",
              "      <td>0</td>\n",
              "    </tr>\n",
              "    <tr>\n",
              "      <th>30</th>\n",
              "      <td>2</td>\n",
              "      <td>1</td>\n",
              "      <td>7</td>\n",
              "      <td>5</td>\n",
              "      <td>6</td>\n",
              "      <td>5</td>\n",
              "      <td>-1</td>\n",
              "      <td>2</td>\n",
              "      <td>4</td>\n",
              "      <td>1</td>\n",
              "      <td>5</td>\n",
              "      <td>1</td>\n",
              "      <td>1</td>\n",
              "      <td>0</td>\n",
              "    </tr>\n",
              "    <tr>\n",
              "      <th>54</th>\n",
              "      <td>2</td>\n",
              "      <td>1</td>\n",
              "      <td>8</td>\n",
              "      <td>2</td>\n",
              "      <td>7</td>\n",
              "      <td>2</td>\n",
              "      <td>-1</td>\n",
              "      <td>1</td>\n",
              "      <td>5</td>\n",
              "      <td>1</td>\n",
              "      <td>6</td>\n",
              "      <td>1</td>\n",
              "      <td>1</td>\n",
              "      <td>0</td>\n",
              "    </tr>\n",
              "    <tr>\n",
              "      <th>58</th>\n",
              "      <td>4</td>\n",
              "      <td>4</td>\n",
              "      <td>7</td>\n",
              "      <td>1</td>\n",
              "      <td>7</td>\n",
              "      <td>2</td>\n",
              "      <td>-1</td>\n",
              "      <td>1</td>\n",
              "      <td>3</td>\n",
              "      <td>1</td>\n",
              "      <td>3</td>\n",
              "      <td>1</td>\n",
              "      <td>1</td>\n",
              "      <td>0</td>\n",
              "    </tr>\n",
              "    <tr>\n",
              "      <th>61</th>\n",
              "      <td>2</td>\n",
              "      <td>2</td>\n",
              "      <td>6</td>\n",
              "      <td>6</td>\n",
              "      <td>5</td>\n",
              "      <td>5</td>\n",
              "      <td>-1</td>\n",
              "      <td>3</td>\n",
              "      <td>3</td>\n",
              "      <td>1</td>\n",
              "      <td>4</td>\n",
              "      <td>1</td>\n",
              "      <td>1</td>\n",
              "      <td>0</td>\n",
              "    </tr>\n",
              "    <tr>\n",
              "      <th>...</th>\n",
              "      <td>...</td>\n",
              "      <td>...</td>\n",
              "      <td>...</td>\n",
              "      <td>...</td>\n",
              "      <td>...</td>\n",
              "      <td>...</td>\n",
              "      <td>...</td>\n",
              "      <td>...</td>\n",
              "      <td>...</td>\n",
              "      <td>...</td>\n",
              "      <td>...</td>\n",
              "      <td>...</td>\n",
              "      <td>...</td>\n",
              "      <td>...</td>\n",
              "    </tr>\n",
              "    <tr>\n",
              "      <th>8412</th>\n",
              "      <td>4</td>\n",
              "      <td>1</td>\n",
              "      <td>4</td>\n",
              "      <td>4</td>\n",
              "      <td>8</td>\n",
              "      <td>8</td>\n",
              "      <td>10</td>\n",
              "      <td>0</td>\n",
              "      <td>7</td>\n",
              "      <td>4</td>\n",
              "      <td>3</td>\n",
              "      <td>0</td>\n",
              "      <td>0</td>\n",
              "      <td>0</td>\n",
              "    </tr>\n",
              "    <tr>\n",
              "      <th>8413</th>\n",
              "      <td>2</td>\n",
              "      <td>1</td>\n",
              "      <td>6</td>\n",
              "      <td>4</td>\n",
              "      <td>8</td>\n",
              "      <td>8</td>\n",
              "      <td>11</td>\n",
              "      <td>0</td>\n",
              "      <td>7</td>\n",
              "      <td>4</td>\n",
              "      <td>4</td>\n",
              "      <td>0</td>\n",
              "      <td>0</td>\n",
              "      <td>0</td>\n",
              "    </tr>\n",
              "    <tr>\n",
              "      <th>8414</th>\n",
              "      <td>4</td>\n",
              "      <td>1</td>\n",
              "      <td>5</td>\n",
              "      <td>4</td>\n",
              "      <td>4</td>\n",
              "      <td>7</td>\n",
              "      <td>13</td>\n",
              "      <td>1</td>\n",
              "      <td>6</td>\n",
              "      <td>3</td>\n",
              "      <td>3</td>\n",
              "      <td>0</td>\n",
              "      <td>0</td>\n",
              "      <td>0</td>\n",
              "    </tr>\n",
              "    <tr>\n",
              "      <th>8415</th>\n",
              "      <td>1</td>\n",
              "      <td>1</td>\n",
              "      <td>6</td>\n",
              "      <td>7</td>\n",
              "      <td>7</td>\n",
              "      <td>1</td>\n",
              "      <td>12</td>\n",
              "      <td>0</td>\n",
              "      <td>6</td>\n",
              "      <td>6</td>\n",
              "      <td>6</td>\n",
              "      <td>0</td>\n",
              "      <td>0</td>\n",
              "      <td>0</td>\n",
              "    </tr>\n",
              "    <tr>\n",
              "      <th>8416</th>\n",
              "      <td>4</td>\n",
              "      <td>1</td>\n",
              "      <td>5</td>\n",
              "      <td>3</td>\n",
              "      <td>1</td>\n",
              "      <td>5</td>\n",
              "      <td>13</td>\n",
              "      <td>0</td>\n",
              "      <td>4</td>\n",
              "      <td>4</td>\n",
              "      <td>2</td>\n",
              "      <td>0</td>\n",
              "      <td>0</td>\n",
              "      <td>0</td>\n",
              "    </tr>\n",
              "  </tbody>\n",
              "</table>\n",
              "<p>8417 rows × 14 columns</p>\n",
              "</div>\n",
              "      <button class=\"colab-df-convert\" onclick=\"convertToInteractive('df-70d0599c-4025-4923-b6bb-2ac2f252a07a')\"\n",
              "              title=\"Convert this dataframe to an interactive table.\"\n",
              "              style=\"display:none;\">\n",
              "        \n",
              "  <svg xmlns=\"http://www.w3.org/2000/svg\" height=\"24px\"viewBox=\"0 0 24 24\"\n",
              "       width=\"24px\">\n",
              "    <path d=\"M0 0h24v24H0V0z\" fill=\"none\"/>\n",
              "    <path d=\"M18.56 5.44l.94 2.06.94-2.06 2.06-.94-2.06-.94-.94-2.06-.94 2.06-2.06.94zm-11 1L8.5 8.5l.94-2.06 2.06-.94-2.06-.94L8.5 2.5l-.94 2.06-2.06.94zm10 10l.94 2.06.94-2.06 2.06-.94-2.06-.94-.94-2.06-.94 2.06-2.06.94z\"/><path d=\"M17.41 7.96l-1.37-1.37c-.4-.4-.92-.59-1.43-.59-.52 0-1.04.2-1.43.59L10.3 9.45l-7.72 7.72c-.78.78-.78 2.05 0 2.83L4 21.41c.39.39.9.59 1.41.59.51 0 1.02-.2 1.41-.59l7.78-7.78 2.81-2.81c.8-.78.8-2.07 0-2.86zM5.41 20L4 18.59l7.72-7.72 1.47 1.35L5.41 20z\"/>\n",
              "  </svg>\n",
              "      </button>\n",
              "      \n",
              "  <style>\n",
              "    .colab-df-container {\n",
              "      display:flex;\n",
              "      flex-wrap:wrap;\n",
              "      gap: 12px;\n",
              "    }\n",
              "\n",
              "    .colab-df-convert {\n",
              "      background-color: #E8F0FE;\n",
              "      border: none;\n",
              "      border-radius: 50%;\n",
              "      cursor: pointer;\n",
              "      display: none;\n",
              "      fill: #1967D2;\n",
              "      height: 32px;\n",
              "      padding: 0 0 0 0;\n",
              "      width: 32px;\n",
              "    }\n",
              "\n",
              "    .colab-df-convert:hover {\n",
              "      background-color: #E2EBFA;\n",
              "      box-shadow: 0px 1px 2px rgba(60, 64, 67, 0.3), 0px 1px 3px 1px rgba(60, 64, 67, 0.15);\n",
              "      fill: #174EA6;\n",
              "    }\n",
              "\n",
              "    [theme=dark] .colab-df-convert {\n",
              "      background-color: #3B4455;\n",
              "      fill: #D2E3FC;\n",
              "    }\n",
              "\n",
              "    [theme=dark] .colab-df-convert:hover {\n",
              "      background-color: #434B5C;\n",
              "      box-shadow: 0px 1px 3px 1px rgba(0, 0, 0, 0.15);\n",
              "      filter: drop-shadow(0px 1px 2px rgba(0, 0, 0, 0.3));\n",
              "      fill: #FFFFFF;\n",
              "    }\n",
              "  </style>\n",
              "\n",
              "      <script>\n",
              "        const buttonEl =\n",
              "          document.querySelector('#df-70d0599c-4025-4923-b6bb-2ac2f252a07a button.colab-df-convert');\n",
              "        buttonEl.style.display =\n",
              "          google.colab.kernel.accessAllowed ? 'block' : 'none';\n",
              "\n",
              "        async function convertToInteractive(key) {\n",
              "          const element = document.querySelector('#df-70d0599c-4025-4923-b6bb-2ac2f252a07a');\n",
              "          const dataTable =\n",
              "            await google.colab.kernel.invokeFunction('convertToInteractive',\n",
              "                                                     [key], {});\n",
              "          if (!dataTable) return;\n",
              "\n",
              "          const docLinkHtml = 'Like what you see? Visit the ' +\n",
              "            '<a target=\"_blank\" href=https://colab.research.google.com/notebooks/data_table.ipynb>data table notebook</a>'\n",
              "            + ' to learn more about interactive tables.';\n",
              "          element.innerHTML = '';\n",
              "          dataTable['output_type'] = 'display_data';\n",
              "          await google.colab.output.renderOutput(dataTable, element);\n",
              "          const docLink = document.createElement('div');\n",
              "          docLink.innerHTML = docLinkHtml;\n",
              "          element.appendChild(docLink);\n",
              "        }\n",
              "      </script>\n",
              "    </div>\n",
              "  </div>\n",
              "  "
            ]
          },
          "metadata": {},
          "execution_count": 82
        }
      ]
    },
    {
      "cell_type": "code",
      "source": [
        "df_test_draws, df_test_mates, df_test_sorted_dropped = drop_predicted(df_test)"
      ],
      "metadata": {
        "id": "C4PYX7qvIWvI"
      },
      "execution_count": 83,
      "outputs": []
    },
    {
      "cell_type": "code",
      "source": [
        "\n",
        "\n",
        "#print(df_test_draws)\n",
        "#print(df_test_mates)\n",
        "#train_X_test, test_X_test, train_y_test, test_y_test = train_test_split(df_test_sorted_dropped.drop(columns = [\"result\"]), df_test_sorted_dropped.result, \n",
        "#                                                    test_size = 0.3, random_state= 420, stratify=df_test_sorted_dropped.result)\n",
        "df_test_concat,prediction_test = get_predictions_fulldf(df_test_draws,df_test_mates,df_test_sorted_dropped,final_model)\n",
        "# test_pred_test = final_model.predict(df_test_concat.drop(columns = [\"result\"]))\n",
        "cm = confusion_matrix(df_test_concat.result, prediction_test)\n",
        "classes = range(-1,18)\n",
        "plt.figure(figsize=(10,10))\n",
        "plot_confusion_matrix(cm, classes,title='Confusion matrix')"
      ],
      "metadata": {
        "colab": {
          "base_uri": "https://localhost:8080/",
          "height": 747
        },
        "id": "c1dPLCtT98Vm",
        "outputId": "2bc8f632-ef8e-47a1-f895-9c5a69e2def6"
      },
      "execution_count": 94,
      "outputs": [
        {
          "output_type": "stream",
          "name": "stdout",
          "text": [
            "[ 6 11  8 ... 13 12 13]\n"
          ]
        },
        {
          "output_type": "display_data",
          "data": {
            "text/plain": [
              "<Figure size 720x720 with 2 Axes>"
            ],
            "image/png": "[encoded data removed]"
          },
          "metadata": {
            "needs_background": "light"
          }
        }
      ]
    },
    {
      "cell_type": "code",
      "source": [
        "final_model.score(df_test_sorted_dropped.drop(columns = [\"result\"]),df_test_sorted_dropped.result)"
      ],
      "metadata": {
        "colab": {
          "base_uri": "https://localhost:8080/"
        },
        "id": "b95Bt6maJHzb",
        "outputId": "6f066e18-8ba8-4561-9b56-36580c889068"
      },
      "execution_count": 90,
      "outputs": [
        {
          "output_type": "execute_result",
          "data": {
            "text/plain": [
              "0.7889035667107002"
            ]
          },
          "metadata": {},
          "execution_count": 90
        }
      ]
    },
    {
      "cell_type": "code",
      "source": [
        "from sklearn.ensemble import VotingClassifier\n",
        "\n",
        "vr = VotingClassifier(estimators=[('entropy', DecisionTreeClassifier(criterion='entropy',random_state=42)), ('def', DecisionTreeClassifier(random_state=42))],\n",
        "                       n_jobs = -1)\n",
        "vr.fit(train_X,train_y)\n",
        "vr.score(test_X,test_y)"
      ],
      "metadata": {
        "colab": {
          "base_uri": "https://localhost:8080/"
        },
        "id": "r8ukCY8KKrnJ",
        "outputId": "59f5d9eb-7114-4498-ecd5-b7dc0da71060"
      },
      "execution_count": 96,
      "outputs": [
        {
          "output_type": "execute_result",
          "data": {
            "text/plain": [
              "0.7820343461030383"
            ]
          },
          "metadata": {},
          "execution_count": 96
        }
      ]
    },
    {
      "cell_type": "code",
      "source": [
        "from sklearn.ensemble import BaggingClassifier\n",
        "\n",
        "br = BaggingClassifier(base_estimator=DecisionTreeClassifier(criterion='entropy',random_state=42),n_jobs = -1)\n",
        "br.fit(train_X,train_y)\n",
        "br.score(test_X,test_y)"
      ],
      "metadata": {
        "colab": {
          "base_uri": "https://localhost:8080/"
        },
        "id": "3MZSKBDLLReY",
        "outputId": "7ce6abda-323c-4876-c2cb-ad38be8ecf05"
      },
      "execution_count": 97,
      "outputs": [
        {
          "output_type": "execute_result",
          "data": {
            "text/plain": [
              "0.7982638233628987"
            ]
          },
          "metadata": {},
          "execution_count": 97
        }
      ]
    },
    {
      "cell_type": "code",
      "source": [
        "vc = VotingClassifier(estimators=[('br',br),('final',final_model)], n_jobs = -1)\n",
        "vc.fit(train_X,train_y)\n",
        "vc.score(test_X,test_y)"
      ],
      "metadata": {
        "colab": {
          "base_uri": "https://localhost:8080/"
        },
        "id": "5FYcKZMnMlWk",
        "outputId": "503457cf-8b51-4d61-8d08-371ad3fa914c"
      },
      "execution_count": 99,
      "outputs": [
        {
          "output_type": "execute_result",
          "data": {
            "text/plain": [
              "0.7841102094734855"
            ]
          },
          "metadata": {},
          "execution_count": 99
        }
      ]
    },
    {
      "cell_type": "code",
      "source": [
        "br.score(df_test_sorted_dropped.drop(columns = [\"result\"]),df_test_sorted_dropped.result)"
      ],
      "metadata": {
        "colab": {
          "base_uri": "https://localhost:8080/"
        },
        "id": "AK_jAyYFNPwr",
        "outputId": "cf3d37e6-60a7-4ecb-940a-d37fad37bd6b"
      },
      "execution_count": 104,
      "outputs": [
        {
          "output_type": "execute_result",
          "data": {
            "text/plain": [
              "0.7927344782034346"
            ]
          },
          "metadata": {},
          "execution_count": 104
        }
      ]
    },
    {
      "cell_type": "code",
      "source": [
        "df_test_concat,prediction_test = get_predictions_fulldf(df_test_draws,df_test_mates,df_test_sorted_dropped,br)\n",
        "# test_pred_test = final_model.predict(df_test_concat.drop(columns = [\"result\"]))\n",
        "cm = confusion_matrix(df_test_concat.result, prediction_test)\n",
        "classes = range(-1,18)\n",
        "plt.figure(figsize=(10,10))\n",
        "plot_confusion_matrix(cm, classes,title='Confusion matrix')"
      ],
      "metadata": {
        "colab": {
          "base_uri": "https://localhost:8080/",
          "height": 747
        },
        "id": "fIRfFJXZMbXs",
        "outputId": "d0cfa711-7775-4842-a00d-bbb65bee6f7e"
      },
      "execution_count": 106,
      "outputs": [
        {
          "output_type": "stream",
          "name": "stdout",
          "text": [
            "[ 8 11  8 ... 13 12 13]\n"
          ]
        },
        {
          "output_type": "display_data",
          "data": {
            "text/plain": [
              "<Figure size 720x720 with 2 Axes>"
            ],
            "image/png": "[encoded data removed]"
          },
          "metadata": {
            "needs_background": "light"
          }
        }
      ]
    },
    {
      "cell_type": "code",
      "source": [
        "from sklearn.metrics import r2_score\n",
        "\n",
        "r2_score(df_concat.result,prediction)"
      ],
      "metadata": {
        "colab": {
          "base_uri": "https://localhost:8080/"
        },
        "id": "pgd_26szMXxq",
        "outputId": "e97b0011-9de1-4a52-bb91-360319a2da8e"
      },
      "execution_count": 107,
      "outputs": [
        {
          "output_type": "execute_result",
          "data": {
            "text/plain": [
              "0.9913418690036206"
            ]
          },
          "metadata": {},
          "execution_count": 107
        }
      ]
    },
    {
      "cell_type": "markdown",
      "metadata": {
        "id": "QyCcuwmzJlwm"
      },
      "source": [
        "#### Wnioski\n",
        "Wygląda na to, że zdecydowanie najlepiej spisuje się SVM z kernelem \"rbf\". Wobec tego zajmiemy się znalezieniem odpowiednich hiperparametrów używająć opytmalizacji bayesowskiej. (random search i grid search nie sprawdziły sie dobrze)"
      ]
    },
    {
      "cell_type": "code",
      "execution_count": null,
      "metadata": {
        "id": "aEp0rcw7Jlwn"
      },
      "outputs": [],
      "source": [
        "# from skopt import BayesSearchCV\n",
        "# from skopt.space import Integer, Real\n",
        "\n",
        "# #przykladowe\n",
        "# model = svm.SVR(kernel=\"rbf\")\n",
        "# bayes = BayesSearchCV(model,search_spaces={\n",
        "#     \"C\" : Integer(20,100),\n",
        "#     \"degree\" : Integer(1,10),\n",
        "#     \"gamma\" : Real(0,1),\n",
        "#     \"epsilon\": Real(0,1)\n",
        "# },n_jobs=-1,cv = 5)\n",
        "\n",
        "# bayes.fit(train_X,train_y)"
      ]
    },
    {
      "cell_type": "markdown",
      "metadata": {
        "id": "1aDptxyeJlwn"
      },
      "source": [
        "Użyliśmy optymalizacji bayesowskiej kilka razy na różne sposoby i otrzymaliśmy różne rezultaty jeśli chodzi o hiperparametry, lecz podobne wyniki score. Wobec tego wydaje się, że hiperparametry, oprócz \"kernel\", w tym przypadku nie mają dużego znaczenia."
      ]
    },
    {
      "cell_type": "code",
      "execution_count": null,
      "metadata": {
        "id": "XI9EDUrsJlwn"
      },
      "outputs": [],
      "source": [
        "bayes1 = svm.SVR(kernel = 'rbf',C=41, degree=2, epsilon=0.5453896028447068, gamma=0.29095860195816414)\n",
        "bayes2 = svm.SVR(kernel = 'rbf',C=30, degree=5, epsilon=0.1967759806539503, gamma=0.08869823764675565)\n",
        "bayes3 = svm.SVR(kernel = 'rbf',C=20, degree=1, epsilon=0.2010835792844748, gamma=0.09924388919619698)"
      ]
    },
    {
      "cell_type": "code",
      "execution_count": null,
      "metadata": {
        "id": "jJMh3-zDJlwn",
        "outputId": "9fb63960-d8ea-4c72-b359-8e8d2e2c39f7"
      },
      "outputs": [
        {
          "data": {
            "text/plain": [
              "SVR(C=20, degree=1, epsilon=0.2010835792844748, gamma=0.09924388919619698)"
            ]
          },
          "execution_count": 23,
          "metadata": {},
          "output_type": "execute_result"
        }
      ],
      "source": [
        "bayes1.fit(train_X,train_y)\n",
        "bayes2.fit(train_X,train_y)\n",
        "bayes3.fit(train_X,train_y)"
      ]
    },
    {
      "cell_type": "markdown",
      "metadata": {
        "id": "ziY37UXuJlwn"
      },
      "source": [
        "Osiągają one na części testowej następujące wyniki: "
      ]
    },
    {
      "cell_type": "code",
      "execution_count": null,
      "metadata": {
        "id": "bA_PlCOsJlwn",
        "outputId": "d2db2e06-17ad-4f2f-85b8-4bcd78fc6054"
      },
      "outputs": [
        {
          "name": "stdout",
          "output_type": "stream",
          "text": [
            "bayes1: 0.8852200880067526 \n",
            "bayes2: 0.8978267260903322 \n",
            "bayes3: 0.8982945547176829 \n",
            "svr_rbf (sprawdzany wcześniej): 0.8958745147446084\n"
          ]
        }
      ],
      "source": [
        "print(\"bayes1:\",bayes1.score(test_X,test_y),\n",
        "      \"\\nbayes2:\",bayes2.score(test_X,test_y),\n",
        "      \"\\nbayes3:\",bayes3.score(test_X,test_y),\n",
        "      \"\\nsvr_rbf (sprawdzany wcześniej):\", svr_rbf.score(test_X,test_y))"
      ]
    },
    {
      "cell_type": "markdown",
      "metadata": {
        "id": "z0l9rpt7Jlwo"
      },
      "source": [
        "Widać, że trzy ostatnie sobie dobrze radzą i są między nimi nieznaczne różnice."
      ]
    },
    {
      "cell_type": "code",
      "execution_count": null,
      "metadata": {
        "id": "LNmv2_MmJlwo",
        "outputId": "911349c2-468b-41c4-c4ee-0a0385014d86"
      },
      "outputs": [
        {
          "data": {
            "text/plain": [
              "0.8982999400322259"
            ]
          },
          "execution_count": 25,
          "metadata": {},
          "output_type": "execute_result"
        }
      ],
      "source": [
        "from sklearn.ensemble import VotingRegressor\n",
        "\n",
        "vr = VotingRegressor(estimators=[('b2', bayes2), ('b3', bayes3), ('def', svr_rbf)],\n",
        "                       n_jobs = -1)\n",
        "vr.fit(train_X,train_y)\n",
        "vr.score(test_X,test_y)"
      ]
    },
    {
      "cell_type": "code",
      "execution_count": null,
      "metadata": {
        "id": "gZnIsmPMJlwo",
        "outputId": "55f1a3e4-ff05-4b5b-988a-9c0ab4a2bc1e"
      },
      "outputs": [
        {
          "data": {
            "text/plain": [
              "0.8997046089558998"
            ]
          },
          "execution_count": 26,
          "metadata": {},
          "output_type": "execute_result"
        }
      ],
      "source": [
        "from sklearn.ensemble import BaggingRegressor\n",
        "\n",
        "br = BaggingRegressor(base_estimator=bayes2,n_jobs = -1)\n",
        "br.fit(train_X,train_y)\n",
        "br.score(test_X,test_y)"
      ]
    },
    {
      "cell_type": "markdown",
      "metadata": {
        "id": "AwrAEQKwJlwo"
      },
      "source": [
        "Ensablingi też dużo nie zmieniły, chociaż BaggingRegressor pozwolił otrzymać najlepszy do tej pory wynik. Wobec tego ostatecznie będzie wykorzystywany."
      ]
    },
    {
      "cell_type": "markdown",
      "metadata": {
        "id": "JGzrLSL7Jlwo"
      },
      "source": [
        "## Wyniki\n",
        "\n",
        "Zgarniając naszą ramkę danych w całość (to znaczy z powrotem łącząc remisy z resztą), otrzymamy ostateczny wynik score naszego modelu."
      ]
    },
    {
      "cell_type": "code",
      "execution_count": null,
      "metadata": {
        "id": "C2PgBQtFJlwo"
      },
      "outputs": [],
      "source": [
        "def get_predictions_fulldf(df_draws,df_mates,df_sorted_dropped,estimator):\n",
        "    # \n",
        "    regr_pred = estimator.predict(df_sorted_dropped.drop(columns=\"result\"))\n",
        "    draws = np.ones(df_draws.shape[0])*-1 #-1 oznaczało u nas wcześniej draw\n",
        "    mates = np.zeros(df_mates.shape[0])\n",
        "    prediction = np.concatenate((draws,mates,regr_pred))\n",
        "    df_concat = pd.concat([df_draws,df_mates,df_sorted_dropped])\n",
        "    return df_concat,prediction\n",
        "\n",
        "df_concat,prediction = get_predictions_fulldf(df_draws,df_mates,df_sorted_dropped,br)"
      ]
    },
    {
      "cell_type": "code",
      "execution_count": null,
      "metadata": {
        "id": "ar2N1FenJlwp",
        "outputId": "598ec56c-827a-4d65-97f9-86dd2b13763b"
      },
      "outputs": [
        {
          "data": {
            "text/plain": [
              "0.9757650280975326"
            ]
          },
          "execution_count": 28,
          "metadata": {},
          "output_type": "execute_result"
        }
      ],
      "source": [
        "from sklearn.metrics import r2_score\n",
        "\n",
        "r2_score(df_concat.result,prediction)"
      ]
    },
    {
      "cell_type": "code",
      "execution_count": null,
      "metadata": {
        "id": "XjuP7-YSJlwp",
        "outputId": "513c9255-cd94-4395-90e8-396328a56e06"
      },
      "outputs": [
        {
          "data": {
            "image/png": "[encoded data removed]",
            "text/plain": [
              "<Figure size 720x720 with 2 Axes>"
            ]
          },
          "metadata": {
            "needs_background": "light"
          },
          "output_type": "display_data"
        }
      ],
      "source": [
        "# source kodu: https://saptarshidatta.in/2020/10/05/PyTorch_CIFAR10.html\n",
        "import itertools\n",
        "import numpy as np\n",
        "import matplotlib.pyplot as plt\n",
        "from sklearn.metrics import confusion_matrix\n",
        "\n",
        "def plot_confusion_matrix(cm, classes,\n",
        "                          title='Confusion matrix',\n",
        "                          cmap=plt.cm.Blues):\n",
        "    \"\"\"\n",
        "    This function prints and plots the confusion matrix.\n",
        "    Normalization can be applied by setting normalize=True.\n",
        "    \"\"\"\n",
        "    cm = cm.astype('float') / cm.sum(axis=1)[:, np.newaxis]\n",
        "    plt.imshow(cm, interpolation='nearest', cmap=cmap)\n",
        "    plt.title(title)\n",
        "    plt.colorbar()\n",
        "    tick_marks = np.arange(len(classes))\n",
        "    plt.xticks(tick_marks, classes, rotation=45)\n",
        "    plt.yticks(tick_marks, classes)\n",
        "\n",
        "    fmt = '.2f'\n",
        "    thresh = cm.max() / 2.\n",
        "    for i, j in itertools.product(range(cm.shape[0]), range(cm.shape[1])):\n",
        "        plt.text(j, i, format(cm[i, j], fmt),\n",
        "                 horizontalalignment=\"center\",\n",
        "                 color=\"white\" if cm[i, j] > thresh else \"black\")\n",
        "\n",
        "    plt.tight_layout()\n",
        "    plt.ylabel('True label')\n",
        "    plt.xlabel('Predicted label')\n",
        "cm = confusion_matrix(df_concat.result, np.round(prediction))\n",
        "classes = range(-1,18)\n",
        "plt.figure(figsize=(10,10))\n",
        "plot_confusion_matrix(cm, classes,title='Confusion matrix')"
      ]
    },
    {
      "cell_type": "markdown",
      "metadata": {
        "id": "MtAoR2zjJlwp"
      },
      "source": [
        "Widać, że najczęściej nasz model myli się dla małych wartości. Podejrzewamy, że jest tak dlatego, że jest ich stosunkowo mało, więc po prostu nie rozpoznaje ich najlepiej."
      ]
    },
    {
      "cell_type": "code",
      "execution_count": null,
      "metadata": {
        "id": "fAIkrarxJlwp",
        "outputId": "3554f07e-4aae-4de5-af1a-2376e0b74a12"
      },
      "outputs": [
        {
          "data": {
            "text/plain": [
              " 14    3187\n",
              " 13    2936\n",
              " 12    2518\n",
              " 11    1998\n",
              "-1     1957\n",
              " 15    1516\n",
              " 10    1389\n",
              " 9     1198\n",
              " 8     1003\n",
              " 7      478\n",
              " 6      414\n",
              " 5      330\n",
              " 16     273\n",
              " 2      172\n",
              " 4      139\n",
              " 3       57\n",
              " 1       55\n",
              " 0       19\n",
              "Name: result, dtype: int64"
            ]
          },
          "execution_count": 32,
          "metadata": {},
          "output_type": "execute_result"
        }
      ],
      "source": [
        "df_concat.result.value_counts()"
      ]
    },
    {
      "cell_type": "markdown",
      "metadata": {
        "id": "Q2lhHW1eJlwp"
      },
      "source": [
        "## Podsumowanie\n",
        "*   Użyliśmy na zbiorze funkcji **w2r_rt**, która dodała dwie nowe kolumny, informujące o odległości białego króla od białej wieży, a także o tym czy wieża zostanie zbita.\n",
        "*   Ufało nam się z całkowitą pewnością przewidzieć remisy i maty funkcjami **drawed** i **mated**. Wyniki są w kolumnach odpowiednio *is_draw* i *is_mated*.\n",
        "*   Użyliśmy funkcji **drop_predicted_draws** do rozdzielenia zbioru, na dwa: \n",
        "    *   *df_draws* - zbiór, w którym ustalamy, że są same remisy\n",
        "    *   *df_mates* - zbiór, w którym ustalamy, że jest już zamatowane\n",
        "    *   *df_sorted_dropped* - zbiór, w którym przewidujemy, że nie będzie remisu, ani mata, i będziemy wykonywać dalszą predykcję\n",
        "*   Sprawdziliśmy kilka modeli regresji w celu ustalenia liczby ruchów potrzebnych do mata. Ostatecznie najlepiej sprawdziły się modele SVM o hiperparametrze kernel = \"rbf\"\n",
        "*   Przeprowadziliśmy optymalizację bayesowską, która znalazła troche lepsze parametry, ale nie zrobiło to większej różnicy.\n",
        "*   Spróbowaliśmy ensemblingu, i wyszło, że _BaggingReggressor_ (nazwa zmiennej - **br**) używający naszego estymatora spisuje się nieco lepiej niż dotychczasowe modele\n",
        "*   Używając funkcji **get_prediction_fulldf** łączymy rozdzielone wcześniej ramki danych i predykcje, a następnie liczymy ich score. \n"
      ]
    }
  ],
  "metadata": {
    "interpreter": {
      "hash": "df2beab871ce3a7c6acb66860c4feefeda1abd22eceafa0f5dcbc757af2aa582"
    },
    "kernelspec": {
      "display_name": "Python 3 (ipykernel)",
      "language": "python",
      "name": "python3"
    },
    "language_info": {
      "codemirror_mode": {
        "name": "ipython",
        "version": 3
      },
      "file_extension": ".py",
      "mimetype": "text/x-python",
      "name": "python",
      "nbconvert_exporter": "python",
      "pygments_lexer": "ipython3",
      "version": "3.8.12"
    },
    "colab": {
      "name": "WumProj1Milestone2.ipynb",
      "provenance": [],
      "machine_shape": "hm",
      "collapsed_sections": [
        "kydBvnrcJlwk",
        "_ki_HNzHJlwl",
        "CYrtTrqSJlwm",
        "jAr338yhJlwm",
        "0SI9JKf6PDCU",
        "2Ha0O8sVG8V5"
      ]
    }
  },
  "nbformat": 4,
  "nbformat_minor": 0
}