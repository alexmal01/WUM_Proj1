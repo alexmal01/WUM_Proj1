{
 "cells": [
  {
   "cell_type": "markdown",
   "id": "8ba3727a",
   "metadata": {},
   "source": [
    "# Wstęp do uczenia maszynowego - Projekt 1\n",
    "## Aleksander Malinowski | Damian Skowroński\n",
    "___\n",
    "\n",
    "### Wprowadzenie\n",
    "W projekcie używamy zbioru danych [Chess king rook](https://www.apispreadsheets.com/datasets/115), który dotyczy zakończeń gier w szachy w przypadku gdy biała strona ma króla i wieżę, a czarnej pozostał tylko król."
   ]
  },
  {
   "cell_type": "code",
   "execution_count": 9,
   "id": "bbf17aa4-d539-4c13-b3fd-0e983b0bb8b8",
   "metadata": {},
   "outputs": [
    {
     "data": {
      "text/html": [
       "<div>\n",
       "<style scoped>\n",
       "    .dataframe tbody tr th:only-of-type {\n",
       "        vertical-align: middle;\n",
       "    }\n",
       "\n",
       "    .dataframe tbody tr th {\n",
       "        vertical-align: top;\n",
       "    }\n",
       "\n",
       "    .dataframe thead th {\n",
       "        text-align: right;\n",
       "    }\n",
       "</style>\n",
       "<table border=\"1\" class=\"dataframe\">\n",
       "  <thead>\n",
       "    <tr style=\"text-align: right;\">\n",
       "      <th></th>\n",
       "      <th>white_king_file</th>\n",
       "      <th>white_king_rank</th>\n",
       "      <th>white_rook_file</th>\n",
       "      <th>white_rook_rank</th>\n",
       "      <th>black_king_file</th>\n",
       "      <th>black_king_rank</th>\n",
       "      <th>result</th>\n",
       "    </tr>\n",
       "  </thead>\n",
       "  <tbody>\n",
       "    <tr>\n",
       "      <th>0</th>\n",
       "      <td>a</td>\n",
       "      <td>1</td>\n",
       "      <td>b</td>\n",
       "      <td>3</td>\n",
       "      <td>c</td>\n",
       "      <td>2</td>\n",
       "      <td>draw</td>\n",
       "    </tr>\n",
       "    <tr>\n",
       "      <th>1</th>\n",
       "      <td>a</td>\n",
       "      <td>1</td>\n",
       "      <td>c</td>\n",
       "      <td>1</td>\n",
       "      <td>c</td>\n",
       "      <td>2</td>\n",
       "      <td>draw</td>\n",
       "    </tr>\n",
       "    <tr>\n",
       "      <th>2</th>\n",
       "      <td>a</td>\n",
       "      <td>1</td>\n",
       "      <td>c</td>\n",
       "      <td>1</td>\n",
       "      <td>d</td>\n",
       "      <td>1</td>\n",
       "      <td>draw</td>\n",
       "    </tr>\n",
       "    <tr>\n",
       "      <th>3</th>\n",
       "      <td>a</td>\n",
       "      <td>1</td>\n",
       "      <td>c</td>\n",
       "      <td>1</td>\n",
       "      <td>d</td>\n",
       "      <td>2</td>\n",
       "      <td>draw</td>\n",
       "    </tr>\n",
       "    <tr>\n",
       "      <th>4</th>\n",
       "      <td>a</td>\n",
       "      <td>1</td>\n",
       "      <td>c</td>\n",
       "      <td>2</td>\n",
       "      <td>c</td>\n",
       "      <td>1</td>\n",
       "      <td>draw</td>\n",
       "    </tr>\n",
       "  </tbody>\n",
       "</table>\n",
       "</div>"
      ],
      "text/plain": [
       "  white_king_file  white_king_rank white_rook_file  white_rook_rank  \\\n",
       "0               a                1               b                3   \n",
       "1               a                1               c                1   \n",
       "2               a                1               c                1   \n",
       "3               a                1               c                1   \n",
       "4               a                1               c                2   \n",
       "\n",
       "  black_king_file  black_king_rank result  \n",
       "0               c                2   draw  \n",
       "1               c                2   draw  \n",
       "2               d                1   draw  \n",
       "3               d                2   draw  \n",
       "4               c                1   draw  "
      ]
     },
     "execution_count": 9,
     "metadata": {},
     "output_type": "execute_result"
    }
   ],
   "source": [
    "import numpy as np\n",
    "import pandas as pd\n",
    "import matplotlib.pyplot as plt\n",
    "import seaborn as sns\n",
    "\n",
    "df = pd.read_csv('chess_king_rook_dataset.csv')\n",
    "df.head()"
   ]
  },
  {
   "cell_type": "markdown",
   "id": "e0949938",
   "metadata": {},
   "source": [
    "Jak widać mamy pozycje każdej z trzech figur, a zmienna opisywana _result_ mówi o tym, czy gra zakończyła się remisem (poprzez pat, lub przez zbicie wieży), lub w ilu ruchach od danej pozycji gra zakończyła się matem.\n",
    "\n",
    "Sprawdzenie, czy są wartości \"NA\":"
   ]
  },
  {
   "cell_type": "code",
   "execution_count": 10,
   "id": "0f6ed080",
   "metadata": {},
   "outputs": [
    {
     "data": {
      "text/plain": [
       "white_king_file    0\n",
       "white_king_rank    0\n",
       "white_rook_file    0\n",
       "white_rook_rank    0\n",
       "black_king_file    0\n",
       "black_king_rank    0\n",
       "result             0\n",
       "dtype: int64"
      ]
     },
     "execution_count": 10,
     "metadata": {},
     "output_type": "execute_result"
    }
   ],
   "source": [
    "df.isna().sum()"
   ]
  },
  {
   "cell_type": "markdown",
   "id": "f178ae6b",
   "metadata": {},
   "source": [
    "Okazuje się, że nie, teraz dokładniejsze sprawdzenie, czy brakujące wartości nie kryją się pod innym oznaczeniem."
   ]
  },
  {
   "cell_type": "code",
   "execution_count": 19,
   "id": "c2f1603a",
   "metadata": {},
   "outputs": [
    {
     "name": "stdout",
     "output_type": "stream",
     "text": [
      "white_king_file ['a' 'b' 'c' 'd']\n",
      "white_king_rank [1 2 3 4]\n",
      "white_rook_file ['b' 'c' 'd' 'e' 'f' 'g' 'h' 'a']\n",
      "white_rook_rank [3 1 2 4 5 6 7 8]\n",
      "black_king_file ['c' 'd' 'e' 'f' 'g' 'h' 'a' 'b']\n",
      "black_king_rank [2 1 3 4 5 6 7 8]\n",
      "result ['draw' 'zero' 'one' 'two' 'three' 'four' 'five' 'six' 'seven' 'eight'\n",
      " 'nine' 'ten' 'eleven' 'twelve' 'thirteen' 'fourteen' 'fifteen' 'sixteen']\n"
     ]
    }
   ],
   "source": [
    "for column in df.columns:\n",
    "    print(column, df[column].unique())\n"
   ]
  },
  {
   "cell_type": "markdown",
   "id": "f0a2f5f2",
   "metadata": {},
   "source": [
    "Wszystkie wartości są sensowne dla szachów, czyli w zbiorze danych nie ma brakujących wartości. Wobec tego nie będzie potrzebna imputacja. Co ciekawe, można zauważyć, że pola białego króla ograniczają się do kwadratu 4x4."
   ]
  },
  {
   "cell_type": "markdown",
   "id": "5609afa8",
   "metadata": {},
   "source": [
    "### Encoding\n",
    "Dla zmiennych określających linię na szachownicy, stosujemy _label encoding_. Natomiast dla zmiennej _result_ zamienimy tekstowe wartości na liczby, a wartości \"draw\" tymczasowo przypiszemy wartość -1 (ze świadomością, że mogą zaburzyć proces uczenia)."
   ]
  },
  {
   "cell_type": "code",
   "execution_count": 20,
   "id": "05969f0c-7248-4451-9983-4ce94d4fd618",
   "metadata": {},
   "outputs": [],
   "source": [
    "from sklearn.preprocessing import LabelEncoder\n",
    "\n",
    "def encode_df(dataframe):\n",
    "    le = LabelEncoder()\n",
    "    for column in dataframe.columns:\n",
    "        if 'file' in column:\n",
    "            dataframe[column] = le.fit_transform(dataframe[column])\n",
    "            dataframe[column] += 1\n",
    "    return dataframe\n",
    "\n",
    "df = encode_df(df)"
   ]
  },
  {
   "cell_type": "code",
   "execution_count": 21,
   "id": "08deeec4-ccba-49d2-ad46-929d4861b771",
   "metadata": {},
   "outputs": [
    {
     "data": {
      "text/html": [
       "<div>\n",
       "<style scoped>\n",
       "    .dataframe tbody tr th:only-of-type {\n",
       "        vertical-align: middle;\n",
       "    }\n",
       "\n",
       "    .dataframe tbody tr th {\n",
       "        vertical-align: top;\n",
       "    }\n",
       "\n",
       "    .dataframe thead th {\n",
       "        text-align: right;\n",
       "    }\n",
       "</style>\n",
       "<table border=\"1\" class=\"dataframe\">\n",
       "  <thead>\n",
       "    <tr style=\"text-align: right;\">\n",
       "      <th></th>\n",
       "      <th>white_king_file</th>\n",
       "      <th>white_king_rank</th>\n",
       "      <th>white_rook_file</th>\n",
       "      <th>white_rook_rank</th>\n",
       "      <th>black_king_file</th>\n",
       "      <th>black_king_rank</th>\n",
       "      <th>result</th>\n",
       "    </tr>\n",
       "  </thead>\n",
       "  <tbody>\n",
       "    <tr>\n",
       "      <th>0</th>\n",
       "      <td>1</td>\n",
       "      <td>1</td>\n",
       "      <td>2</td>\n",
       "      <td>3</td>\n",
       "      <td>3</td>\n",
       "      <td>2</td>\n",
       "      <td>-1</td>\n",
       "    </tr>\n",
       "    <tr>\n",
       "      <th>1</th>\n",
       "      <td>1</td>\n",
       "      <td>1</td>\n",
       "      <td>3</td>\n",
       "      <td>1</td>\n",
       "      <td>3</td>\n",
       "      <td>2</td>\n",
       "      <td>-1</td>\n",
       "    </tr>\n",
       "    <tr>\n",
       "      <th>2</th>\n",
       "      <td>1</td>\n",
       "      <td>1</td>\n",
       "      <td>3</td>\n",
       "      <td>1</td>\n",
       "      <td>4</td>\n",
       "      <td>1</td>\n",
       "      <td>-1</td>\n",
       "    </tr>\n",
       "    <tr>\n",
       "      <th>3</th>\n",
       "      <td>1</td>\n",
       "      <td>1</td>\n",
       "      <td>3</td>\n",
       "      <td>1</td>\n",
       "      <td>4</td>\n",
       "      <td>2</td>\n",
       "      <td>-1</td>\n",
       "    </tr>\n",
       "    <tr>\n",
       "      <th>4</th>\n",
       "      <td>1</td>\n",
       "      <td>1</td>\n",
       "      <td>3</td>\n",
       "      <td>2</td>\n",
       "      <td>3</td>\n",
       "      <td>1</td>\n",
       "      <td>-1</td>\n",
       "    </tr>\n",
       "    <tr>\n",
       "      <th>...</th>\n",
       "      <td>...</td>\n",
       "      <td>...</td>\n",
       "      <td>...</td>\n",
       "      <td>...</td>\n",
       "      <td>...</td>\n",
       "      <td>...</td>\n",
       "      <td>...</td>\n",
       "    </tr>\n",
       "    <tr>\n",
       "      <th>28051</th>\n",
       "      <td>2</td>\n",
       "      <td>1</td>\n",
       "      <td>7</td>\n",
       "      <td>7</td>\n",
       "      <td>5</td>\n",
       "      <td>5</td>\n",
       "      <td>16</td>\n",
       "    </tr>\n",
       "    <tr>\n",
       "      <th>28052</th>\n",
       "      <td>2</td>\n",
       "      <td>1</td>\n",
       "      <td>7</td>\n",
       "      <td>7</td>\n",
       "      <td>5</td>\n",
       "      <td>6</td>\n",
       "      <td>16</td>\n",
       "    </tr>\n",
       "    <tr>\n",
       "      <th>28053</th>\n",
       "      <td>2</td>\n",
       "      <td>1</td>\n",
       "      <td>7</td>\n",
       "      <td>7</td>\n",
       "      <td>5</td>\n",
       "      <td>7</td>\n",
       "      <td>16</td>\n",
       "    </tr>\n",
       "    <tr>\n",
       "      <th>28054</th>\n",
       "      <td>2</td>\n",
       "      <td>1</td>\n",
       "      <td>7</td>\n",
       "      <td>7</td>\n",
       "      <td>6</td>\n",
       "      <td>5</td>\n",
       "      <td>16</td>\n",
       "    </tr>\n",
       "    <tr>\n",
       "      <th>28055</th>\n",
       "      <td>2</td>\n",
       "      <td>1</td>\n",
       "      <td>7</td>\n",
       "      <td>7</td>\n",
       "      <td>7</td>\n",
       "      <td>5</td>\n",
       "      <td>16</td>\n",
       "    </tr>\n",
       "  </tbody>\n",
       "</table>\n",
       "<p>28056 rows × 7 columns</p>\n",
       "</div>"
      ],
      "text/plain": [
       "       white_king_file  white_king_rank  white_rook_file  white_rook_rank  \\\n",
       "0                    1                1                2                3   \n",
       "1                    1                1                3                1   \n",
       "2                    1                1                3                1   \n",
       "3                    1                1                3                1   \n",
       "4                    1                1                3                2   \n",
       "...                ...              ...              ...              ...   \n",
       "28051                2                1                7                7   \n",
       "28052                2                1                7                7   \n",
       "28053                2                1                7                7   \n",
       "28054                2                1                7                7   \n",
       "28055                2                1                7                7   \n",
       "\n",
       "       black_king_file  black_king_rank  result  \n",
       "0                    3                2      -1  \n",
       "1                    3                2      -1  \n",
       "2                    4                1      -1  \n",
       "3                    4                2      -1  \n",
       "4                    3                1      -1  \n",
       "...                ...              ...     ...  \n",
       "28051                5                5      16  \n",
       "28052                5                6      16  \n",
       "28053                5                7      16  \n",
       "28054                6                5      16  \n",
       "28055                7                5      16  \n",
       "\n",
       "[28056 rows x 7 columns]"
      ]
     },
     "execution_count": 21,
     "metadata": {},
     "output_type": "execute_result"
    }
   ],
   "source": [
    "def encode_results(string):\n",
    "    if string == 'draw':\n",
    "        string = -1\n",
    "    elif string == 'zero':\n",
    "        string = 0\n",
    "    elif string == 'one':\n",
    "        string = 1\n",
    "    elif string == 'two':\n",
    "        string = 2\n",
    "    elif string == 'three':\n",
    "        string = 3\n",
    "    elif string == 'four':\n",
    "        string = 4\n",
    "    elif string == 'five':\n",
    "        string = 5\n",
    "    elif string == 'six':\n",
    "        string = 6\n",
    "    elif string == 'seven':\n",
    "        string = 7\n",
    "    elif string == 'eight':\n",
    "        string = 8\n",
    "    elif string == 'nine':\n",
    "        string = 9\n",
    "    elif string == 'ten':\n",
    "        string = 10\n",
    "    elif string == \"eleven\":\n",
    "        string = 11\n",
    "    elif string == \"twelve\":\n",
    "        string = 12\n",
    "    elif string == \"thirteen\":\n",
    "        string = 13\n",
    "    elif string == \"fourteen\":\n",
    "        string = 14\n",
    "    elif string == \"fifteen\":\n",
    "        string = 15\n",
    "    else:\n",
    "        string = 16\n",
    "    return string\n",
    "df.result = df.result.apply(lambda x: encode_results(x))\n",
    "df"
   ]
  },
  {
   "cell_type": "markdown",
   "id": "32ccb756",
   "metadata": {},
   "source": [
    "W ten sposób w ramce danych mamy same wartości numeryczne."
   ]
  },
  {
   "cell_type": "markdown",
   "id": "75716fec",
   "metadata": {},
   "source": [
    "### Nowe zmienne\n",
    "W celu potencjalnie lepszych wyników późniejszego modelu, uznaliśmy, że dobrym pomysłem jest policzenie odległości czarnego króla od krawędzi planszy, odległości króli między sobą, a także odległości czarnego króla od białej wieży. Wybraliśmy takie zmienne, ze względu na naturę osiągnięcia mata w systuacji przedstawionej w zbiorze danych."
   ]
  },
  {
   "cell_type": "code",
   "execution_count": 25,
   "id": "28e07d98-dd70-4407-ac0f-12939cebbcae",
   "metadata": {},
   "outputs": [],
   "source": [
    "def distance(df): \n",
    "    # dystans czarnego króla od krawędzi\n",
    "    return min(df['black_king_file'] - 1, 8 - df['black_king_file'], df['black_king_rank'] - 1, 8 - df['black_king_rank'])\n",
    "\n",
    "df['black_king_dst'] = df.apply(lambda x: distance(x), axis = 1)"
   ]
  },
  {
   "cell_type": "code",
   "execution_count": 28,
   "id": "d925325b-2017-452e-82f0-6f218b2b3463",
   "metadata": {},
   "outputs": [],
   "source": [
    "def blackwhitedistance(df):\n",
    "    # dystans pomiędzy królami\n",
    "    return max(abs(df['black_king_file'] - df['white_king_file']),abs(df['black_king_rank'] - df['white_king_rank']))\n",
    "\n",
    "df['black2white_king_dst'] = df.apply(lambda x: blackwhitedistance(x), axis = 1)"
   ]
  },
  {
   "cell_type": "code",
   "execution_count": 31,
   "id": "a4842b07-dc10-475d-9e29-5bfb0352a255",
   "metadata": {},
   "outputs": [
    {
     "name": "stdout",
     "output_type": "stream",
     "text": [
      "najmniejsza odległość = 2 \n",
      "największa odległość = 7\n"
     ]
    }
   ],
   "source": [
    "print(\"najmniejsza odległość =\",np.min(df.black2white_king_dst),\"\\nnajwiększa odległość =\",np.max(df.black2white_king_dst))"
   ]
  },
  {
   "cell_type": "markdown",
   "id": "1b6f06b0-b9eb-417a-bd09-a6057d5d2f03",
   "metadata": {},
   "source": [
    "W trakcie sprawdzania, czy nie wychodzą nam za duże, lub za małe wartości, udało nam się dojść do jeszcze jednego wniosku, mianowicie ponieważ minimalna odległość dwóch króli to 2 - to znaczy, że w zbiorze danych nie ma sprzecznych z grą ustawień."
   ]
  },
  {
   "cell_type": "code",
   "execution_count": 33,
   "id": "8a8b0060-d080-44ac-9771-c303672d446a",
   "metadata": {},
   "outputs": [],
   "source": [
    "def black2rookdistance(df):\n",
    "     # dystans pomiędzy czarnym królem i wieżą\n",
    "    return max(abs(df['black_king_file'] - df['white_rook_file']),abs(df['black_king_rank'] - df['white_rook_rank']))\n",
    "df['black2rook_dst'] = df.apply(lambda x: black2rookdistance(x), axis = 1)"
   ]
  },
  {
   "cell_type": "markdown",
   "id": "7011e72e",
   "metadata": {},
   "source": [
    "Po dotychczasowych krokach ramka wygląda tak:"
   ]
  },
  {
   "cell_type": "code",
   "execution_count": 34,
   "id": "bfdf52e5",
   "metadata": {},
   "outputs": [
    {
     "data": {
      "text/html": [
       "<div>\n",
       "<style scoped>\n",
       "    .dataframe tbody tr th:only-of-type {\n",
       "        vertical-align: middle;\n",
       "    }\n",
       "\n",
       "    .dataframe tbody tr th {\n",
       "        vertical-align: top;\n",
       "    }\n",
       "\n",
       "    .dataframe thead th {\n",
       "        text-align: right;\n",
       "    }\n",
       "</style>\n",
       "<table border=\"1\" class=\"dataframe\">\n",
       "  <thead>\n",
       "    <tr style=\"text-align: right;\">\n",
       "      <th></th>\n",
       "      <th>white_king_file</th>\n",
       "      <th>white_king_rank</th>\n",
       "      <th>white_rook_file</th>\n",
       "      <th>white_rook_rank</th>\n",
       "      <th>black_king_file</th>\n",
       "      <th>black_king_rank</th>\n",
       "      <th>result</th>\n",
       "      <th>black_king_dst</th>\n",
       "      <th>black2white_king_dst</th>\n",
       "      <th>black2rook_dst</th>\n",
       "    </tr>\n",
       "  </thead>\n",
       "  <tbody>\n",
       "    <tr>\n",
       "      <th>0</th>\n",
       "      <td>1</td>\n",
       "      <td>1</td>\n",
       "      <td>2</td>\n",
       "      <td>3</td>\n",
       "      <td>3</td>\n",
       "      <td>2</td>\n",
       "      <td>-1</td>\n",
       "      <td>1</td>\n",
       "      <td>2</td>\n",
       "      <td>1</td>\n",
       "    </tr>\n",
       "    <tr>\n",
       "      <th>1</th>\n",
       "      <td>1</td>\n",
       "      <td>1</td>\n",
       "      <td>3</td>\n",
       "      <td>1</td>\n",
       "      <td>3</td>\n",
       "      <td>2</td>\n",
       "      <td>-1</td>\n",
       "      <td>1</td>\n",
       "      <td>2</td>\n",
       "      <td>1</td>\n",
       "    </tr>\n",
       "    <tr>\n",
       "      <th>2</th>\n",
       "      <td>1</td>\n",
       "      <td>1</td>\n",
       "      <td>3</td>\n",
       "      <td>1</td>\n",
       "      <td>4</td>\n",
       "      <td>1</td>\n",
       "      <td>-1</td>\n",
       "      <td>0</td>\n",
       "      <td>3</td>\n",
       "      <td>1</td>\n",
       "    </tr>\n",
       "    <tr>\n",
       "      <th>3</th>\n",
       "      <td>1</td>\n",
       "      <td>1</td>\n",
       "      <td>3</td>\n",
       "      <td>1</td>\n",
       "      <td>4</td>\n",
       "      <td>2</td>\n",
       "      <td>-1</td>\n",
       "      <td>1</td>\n",
       "      <td>3</td>\n",
       "      <td>1</td>\n",
       "    </tr>\n",
       "    <tr>\n",
       "      <th>4</th>\n",
       "      <td>1</td>\n",
       "      <td>1</td>\n",
       "      <td>3</td>\n",
       "      <td>2</td>\n",
       "      <td>3</td>\n",
       "      <td>1</td>\n",
       "      <td>-1</td>\n",
       "      <td>0</td>\n",
       "      <td>2</td>\n",
       "      <td>1</td>\n",
       "    </tr>\n",
       "  </tbody>\n",
       "</table>\n",
       "</div>"
      ],
      "text/plain": [
       "   white_king_file  white_king_rank  white_rook_file  white_rook_rank  \\\n",
       "0                1                1                2                3   \n",
       "1                1                1                3                1   \n",
       "2                1                1                3                1   \n",
       "3                1                1                3                1   \n",
       "4                1                1                3                2   \n",
       "\n",
       "   black_king_file  black_king_rank  result  black_king_dst  \\\n",
       "0                3                2      -1               1   \n",
       "1                3                2      -1               1   \n",
       "2                4                1      -1               0   \n",
       "3                4                2      -1               1   \n",
       "4                3                1      -1               0   \n",
       "\n",
       "   black2white_king_dst  black2rook_dst  \n",
       "0                     2               1  \n",
       "1                     2               1  \n",
       "2                     3               1  \n",
       "3                     3               1  \n",
       "4                     2               1  "
      ]
     },
     "execution_count": 34,
     "metadata": {},
     "output_type": "execute_result"
    }
   ],
   "source": [
    "df.head()"
   ]
  },
  {
   "cell_type": "markdown",
   "id": "f81be69b-3131-4264-867d-cd1637f6fa2f",
   "metadata": {},
   "source": [
    "### Podział i EDA"
   ]
  },
  {
   "cell_type": "markdown",
   "id": "5a1dfacc",
   "metadata": {},
   "source": [
    "Przed analizą danych dzielimy zbiory na treningowy i testowy, a następnie zapisujemy te dane w plikach csv."
   ]
  },
  {
   "cell_type": "code",
   "execution_count": 37,
   "id": "6a00c6ed-523b-432b-ac5e-156e92b81d68",
   "metadata": {},
   "outputs": [],
   "source": [
    "from sklearn.model_selection import train_test_split\n",
    "def split_data(df):\n",
    "    feats = [feat for feat in df.columns if feat != 'result']\n",
    "    X = df[feats]\n",
    "    y = df['result']\n",
    "    return X, y\n",
    "df_train,df_test = train_test_split(df, test_size=0.3, random_state=42, stratify=df.result)"
   ]
  },
  {
   "cell_type": "code",
   "execution_count": 38,
   "id": "7dc6922a-2097-4c53-9e50-3dd958bb6e61",
   "metadata": {},
   "outputs": [],
   "source": [
    "df_train.to_csv(\"training_set.csv\")\n",
    "df_test.to_csv(\"test_set.csv\")"
   ]
  },
  {
   "cell_type": "markdown",
   "id": "24d7678d",
   "metadata": {},
   "source": [
    "Przeprowadzamy anazlizę jednowymiarową"
   ]
  },
  {
   "cell_type": "code",
   "execution_count": 39,
   "id": "3a000337-a321-4a70-9b89-f1f5d7d52d58",
   "metadata": {},
   "outputs": [
    {
     "data": {
      "text/plain": [
       "<AxesSubplot:xlabel='count', ylabel='white_king_file'>"
      ]
     },
     "execution_count": 39,
     "metadata": {},
     "output_type": "execute_result"
    },
    {
     "data": {
      "image/png": "[encoded data removed]",
      "text/plain": [
       "<Figure size 432x288 with 1 Axes>"
      ]
     },
     "metadata": {
      "needs_background": "light"
     },
     "output_type": "display_data"
    }
   ],
   "source": [
    "sns.countplot(y = \"white_king_file\", data = df_train.sort_values(by = \"white_king_file\"),orient=\"h\")"
   ]
  },
  {
   "cell_type": "code",
   "execution_count": 40,
   "id": "23074bc3-3388-40a8-8283-61cb74534df1",
   "metadata": {},
   "outputs": [
    {
     "data": {
      "text/plain": [
       "<AxesSubplot:xlabel='count', ylabel='white_king_rank'>"
      ]
     },
     "execution_count": 40,
     "metadata": {},
     "output_type": "execute_result"
    },
    {
     "data": {
      "image/png": "[encoded data removed]",
      "text/plain": [
       "<Figure size 432x288 with 1 Axes>"
      ]
     },
     "metadata": {
      "needs_background": "light"
     },
     "output_type": "display_data"
    }
   ],
   "source": [
    "sns.countplot(y = \"white_king_rank\", data = df_train.sort_values(by = \"white_king_rank\"),orient=\"h\")"
   ]
  },
  {
   "cell_type": "markdown",
   "id": "24bc12de",
   "metadata": {},
   "source": [
    "Dwa powyższe rozkłady wydają się swoim lustrzanym odbiciem. Wychodzi, że biały król najczęściej znajdował się na polu __D1__."
   ]
  },
  {
   "cell_type": "code",
   "execution_count": 41,
   "id": "478c9a9a-52a3-492b-8d81-27f4bf2991e0",
   "metadata": {},
   "outputs": [
    {
     "data": {
      "text/plain": [
       "<AxesSubplot:xlabel='count', ylabel='black_king_file'>"
      ]
     },
     "execution_count": 41,
     "metadata": {},
     "output_type": "execute_result"
    },
    {
     "data": {
      "image/png": "[encoded data removed]",
      "text/plain": [
       "<Figure size 432x288 with 1 Axes>"
      ]
     },
     "metadata": {
      "needs_background": "light"
     },
     "output_type": "display_data"
    }
   ],
   "source": [
    "sns.countplot(y = \"black_king_file\", data = df_train.sort_values(by = \"black_king_file\"),orient=\"h\")"
   ]
  },
  {
   "cell_type": "code",
   "execution_count": 42,
   "id": "eea326be-3edf-4e58-83c1-91a9f8622d85",
   "metadata": {},
   "outputs": [
    {
     "data": {
      "text/plain": [
       "<AxesSubplot:xlabel='count', ylabel='black_king_rank'>"
      ]
     },
     "execution_count": 42,
     "metadata": {},
     "output_type": "execute_result"
    },
    {
     "data": {
      "image/png": "[encoded data removed]",
      "text/plain": [
       "<Figure size 432x288 with 1 Axes>"
      ]
     },
     "metadata": {
      "needs_background": "light"
     },
     "output_type": "display_data"
    }
   ],
   "source": [
    "sns.countplot(y = \"black_king_rank\", data = df_train.sort_values(by = \"black_king_rank\"),orient=\"h\")"
   ]
  },
  {
   "cell_type": "code",
   "execution_count": 43,
   "id": "6f22a55c-6832-4556-870b-d36d048156b6",
   "metadata": {},
   "outputs": [
    {
     "data": {
      "text/plain": [
       "<AxesSubplot:xlabel='count', ylabel='white_rook_rank'>"
      ]
     },
     "execution_count": 43,
     "metadata": {},
     "output_type": "execute_result"
    },
    {
     "data": {
      "image/png": "[encoded data removed]",
      "text/plain": [
       "<Figure size 432x288 with 1 Axes>"
      ]
     },
     "metadata": {
      "needs_background": "light"
     },
     "output_type": "display_data"
    }
   ],
   "source": [
    "sns.countplot(y = \"white_rook_rank\", data = df_train.sort_values(by = \"white_rook_rank\"),orient=\"h\")"
   ]
  },
  {
   "cell_type": "code",
   "execution_count": 44,
   "id": "a5a28455-135a-4e0f-a585-6cf24f2ebcde",
   "metadata": {},
   "outputs": [
    {
     "data": {
      "text/plain": [
       "<AxesSubplot:xlabel='count', ylabel='white_rook_file'>"
      ]
     },
     "execution_count": 44,
     "metadata": {},
     "output_type": "execute_result"
    },
    {
     "data": {
      "image/png": "[encoded data removed]",
      "text/plain": [
       "<Figure size 432x288 with 1 Axes>"
      ]
     },
     "metadata": {
      "needs_background": "light"
     },
     "output_type": "display_data"
    }
   ],
   "source": [
    "sns.countplot(y = \"white_rook_file\", data = df_train.sort_values(by = \"white_rook_file\"),orient=\"h\")"
   ]
  },
  {
   "cell_type": "code",
   "execution_count": 45,
   "id": "750e603f-d8a4-4567-9d71-0b114a362660",
   "metadata": {},
   "outputs": [
    {
     "data": {
      "text/plain": [
       "<AxesSubplot:xlabel='count', ylabel='black_king_dst'>"
      ]
     },
     "execution_count": 45,
     "metadata": {},
     "output_type": "execute_result"
    },
    {
     "data": {
      "image/png": "[encoded data removed]",
      "text/plain": [
       "<Figure size 432x288 with 1 Axes>"
      ]
     },
     "metadata": {
      "needs_background": "light"
     },
     "output_type": "display_data"
    }
   ],
   "source": [
    "sns.countplot(y = \"black_king_dst\", data = df_train.sort_values(by = \"black_king_dst\"),orient=\"h\")"
   ]
  },
  {
   "cell_type": "code",
   "execution_count": 46,
   "id": "1d7bdc72-694c-4ef7-b017-957dd733cd75",
   "metadata": {},
   "outputs": [
    {
     "data": {
      "text/plain": [
       "<AxesSubplot:xlabel='count', ylabel='black2white_king_dst'>"
      ]
     },
     "execution_count": 46,
     "metadata": {},
     "output_type": "execute_result"
    },
    {
     "data": {
      "image/png": "[encoded data removed]",
      "text/plain": [
       "<Figure size 432x288 with 1 Axes>"
      ]
     },
     "metadata": {
      "needs_background": "light"
     },
     "output_type": "display_data"
    }
   ],
   "source": [
    "sns.countplot(y = \"black2white_king_dst\", data = df_train.sort_values(by = \"black2white_king_dst\"),orient=\"h\")"
   ]
  },
  {
   "cell_type": "code",
   "execution_count": 47,
   "id": "113d6524-aa5f-4909-a26a-0433d50a2107",
   "metadata": {},
   "outputs": [
    {
     "data": {
      "text/plain": [
       "<AxesSubplot:xlabel='count', ylabel='black2rook_dst'>"
      ]
     },
     "execution_count": 47,
     "metadata": {},
     "output_type": "execute_result"
    },
    {
     "data": {
      "image/png": "[encoded data removed]",
      "text/plain": [
       "<Figure size 432x288 with 1 Axes>"
      ]
     },
     "metadata": {
      "needs_background": "light"
     },
     "output_type": "display_data"
    }
   ],
   "source": [
    "sns.countplot(y = \"black2rook_dst\", data = df_train.sort_values(by = \"black2rook_dst\"),orient=\"h\")"
   ]
  },
  {
   "cell_type": "code",
   "execution_count": 51,
   "id": "a31604f3-3d2c-4aaf-b7c2-47e6588e6d3d",
   "metadata": {},
   "outputs": [
    {
     "data": {
      "text/plain": [
       "<AxesSubplot:xlabel='result', ylabel='Count'>"
      ]
     },
     "execution_count": 51,
     "metadata": {},
     "output_type": "execute_result"
    },
    {
     "data": {
      "image/png": "[encoded data removed]",
      "text/plain": [
       "<Figure size 432x288 with 1 Axes>"
      ]
     },
     "metadata": {
      "needs_background": "light"
     },
     "output_type": "display_data"
    }
   ],
   "source": [
    "sns.histplot(x = \"result\", data = df_train)"
   ]
  },
  {
   "cell_type": "markdown",
   "id": "e0f7bc8f",
   "metadata": {},
   "source": [
    "Widać, że w zbiorze danych zwykle do mata potrzeba było więcej ruchów. Pierwsza kolumna na wykresie oznacza liczbę remisów.\n",
    "\n",
    "Analiza dwuwymiarowa:"
   ]
  },
  {
   "cell_type": "code",
   "execution_count": 52,
   "id": "b26426a7-c594-43be-aa4d-57584a4b018c",
   "metadata": {},
   "outputs": [
    {
     "data": {
      "text/html": [
       "<div>\n",
       "<style scoped>\n",
       "    .dataframe tbody tr th:only-of-type {\n",
       "        vertical-align: middle;\n",
       "    }\n",
       "\n",
       "    .dataframe tbody tr th {\n",
       "        vertical-align: top;\n",
       "    }\n",
       "\n",
       "    .dataframe thead th {\n",
       "        text-align: right;\n",
       "    }\n",
       "</style>\n",
       "<table border=\"1\" class=\"dataframe\">\n",
       "  <thead>\n",
       "    <tr style=\"text-align: right;\">\n",
       "      <th></th>\n",
       "      <th>white_king_file</th>\n",
       "      <th>white_king_rank</th>\n",
       "      <th>white_rook_file</th>\n",
       "      <th>white_rook_rank</th>\n",
       "      <th>black_king_file</th>\n",
       "      <th>black_king_rank</th>\n",
       "      <th>result</th>\n",
       "      <th>black_king_dst</th>\n",
       "      <th>black2white_king_dst</th>\n",
       "      <th>black2rook_dst</th>\n",
       "    </tr>\n",
       "  </thead>\n",
       "  <tbody>\n",
       "    <tr>\n",
       "      <th>white_king_file</th>\n",
       "      <td>1.000000</td>\n",
       "      <td>0.456087</td>\n",
       "      <td>-0.009108</td>\n",
       "      <td>0.000182</td>\n",
       "      <td>-0.140401</td>\n",
       "      <td>0.105595</td>\n",
       "      <td>-0.195264</td>\n",
       "      <td>-0.054697</td>\n",
       "      <td>-0.297172</td>\n",
       "      <td>0.025093</td>\n",
       "    </tr>\n",
       "    <tr>\n",
       "      <th>white_king_rank</th>\n",
       "      <td>0.456087</td>\n",
       "      <td>1.000000</td>\n",
       "      <td>0.008568</td>\n",
       "      <td>-0.008044</td>\n",
       "      <td>0.097899</td>\n",
       "      <td>-0.123493</td>\n",
       "      <td>-0.247554</td>\n",
       "      <td>-0.095732</td>\n",
       "      <td>-0.358309</td>\n",
       "      <td>0.036792</td>\n",
       "    </tr>\n",
       "    <tr>\n",
       "      <th>white_rook_file</th>\n",
       "      <td>-0.009108</td>\n",
       "      <td>0.008568</td>\n",
       "      <td>1.000000</td>\n",
       "      <td>-0.008674</td>\n",
       "      <td>-0.015768</td>\n",
       "      <td>-0.001490</td>\n",
       "      <td>-0.056035</td>\n",
       "      <td>0.013431</td>\n",
       "      <td>-0.016254</td>\n",
       "      <td>-0.132705</td>\n",
       "    </tr>\n",
       "    <tr>\n",
       "      <th>white_rook_rank</th>\n",
       "      <td>0.000182</td>\n",
       "      <td>-0.008044</td>\n",
       "      <td>-0.008674</td>\n",
       "      <td>1.000000</td>\n",
       "      <td>0.004017</td>\n",
       "      <td>-0.025332</td>\n",
       "      <td>0.001758</td>\n",
       "      <td>-0.008814</td>\n",
       "      <td>-0.004573</td>\n",
       "      <td>0.020399</td>\n",
       "    </tr>\n",
       "    <tr>\n",
       "      <th>black_king_file</th>\n",
       "      <td>-0.140401</td>\n",
       "      <td>0.097899</td>\n",
       "      <td>-0.015768</td>\n",
       "      <td>0.004017</td>\n",
       "      <td>1.000000</td>\n",
       "      <td>-0.075550</td>\n",
       "      <td>0.044304</td>\n",
       "      <td>-0.069412</td>\n",
       "      <td>0.268161</td>\n",
       "      <td>0.020694</td>\n",
       "    </tr>\n",
       "    <tr>\n",
       "      <th>black_king_rank</th>\n",
       "      <td>0.105595</td>\n",
       "      <td>-0.123493</td>\n",
       "      <td>-0.001490</td>\n",
       "      <td>-0.025332</td>\n",
       "      <td>-0.075550</td>\n",
       "      <td>1.000000</td>\n",
       "      <td>0.216334</td>\n",
       "      <td>0.027861</td>\n",
       "      <td>0.611104</td>\n",
       "      <td>-0.022466</td>\n",
       "    </tr>\n",
       "    <tr>\n",
       "      <th>result</th>\n",
       "      <td>-0.195264</td>\n",
       "      <td>-0.247554</td>\n",
       "      <td>-0.056035</td>\n",
       "      <td>0.001758</td>\n",
       "      <td>0.044304</td>\n",
       "      <td>0.216334</td>\n",
       "      <td>1.000000</td>\n",
       "      <td>0.230134</td>\n",
       "      <td>0.152326</td>\n",
       "      <td>0.350126</td>\n",
       "    </tr>\n",
       "    <tr>\n",
       "      <th>black_king_dst</th>\n",
       "      <td>-0.054697</td>\n",
       "      <td>-0.095732</td>\n",
       "      <td>0.013431</td>\n",
       "      <td>-0.008814</td>\n",
       "      <td>-0.069412</td>\n",
       "      <td>0.027861</td>\n",
       "      <td>0.230134</td>\n",
       "      <td>1.000000</td>\n",
       "      <td>-0.358527</td>\n",
       "      <td>-0.322727</td>\n",
       "    </tr>\n",
       "    <tr>\n",
       "      <th>black2white_king_dst</th>\n",
       "      <td>-0.297172</td>\n",
       "      <td>-0.358309</td>\n",
       "      <td>-0.016254</td>\n",
       "      <td>-0.004573</td>\n",
       "      <td>0.268161</td>\n",
       "      <td>0.611104</td>\n",
       "      <td>0.152326</td>\n",
       "      <td>-0.358527</td>\n",
       "      <td>1.000000</td>\n",
       "      <td>0.124789</td>\n",
       "    </tr>\n",
       "    <tr>\n",
       "      <th>black2rook_dst</th>\n",
       "      <td>0.025093</td>\n",
       "      <td>0.036792</td>\n",
       "      <td>-0.132705</td>\n",
       "      <td>0.020399</td>\n",
       "      <td>0.020694</td>\n",
       "      <td>-0.022466</td>\n",
       "      <td>0.350126</td>\n",
       "      <td>-0.322727</td>\n",
       "      <td>0.124789</td>\n",
       "      <td>1.000000</td>\n",
       "    </tr>\n",
       "  </tbody>\n",
       "</table>\n",
       "</div>"
      ],
      "text/plain": [
       "                      white_king_file  white_king_rank  white_rook_file  \\\n",
       "white_king_file              1.000000         0.456087        -0.009108   \n",
       "white_king_rank              0.456087         1.000000         0.008568   \n",
       "white_rook_file             -0.009108         0.008568         1.000000   \n",
       "white_rook_rank              0.000182        -0.008044        -0.008674   \n",
       "black_king_file             -0.140401         0.097899        -0.015768   \n",
       "black_king_rank              0.105595        -0.123493        -0.001490   \n",
       "result                      -0.195264        -0.247554        -0.056035   \n",
       "black_king_dst              -0.054697        -0.095732         0.013431   \n",
       "black2white_king_dst        -0.297172        -0.358309        -0.016254   \n",
       "black2rook_dst               0.025093         0.036792        -0.132705   \n",
       "\n",
       "                      white_rook_rank  black_king_file  black_king_rank  \\\n",
       "white_king_file              0.000182        -0.140401         0.105595   \n",
       "white_king_rank             -0.008044         0.097899        -0.123493   \n",
       "white_rook_file             -0.008674        -0.015768        -0.001490   \n",
       "white_rook_rank              1.000000         0.004017        -0.025332   \n",
       "black_king_file              0.004017         1.000000        -0.075550   \n",
       "black_king_rank             -0.025332        -0.075550         1.000000   \n",
       "result                       0.001758         0.044304         0.216334   \n",
       "black_king_dst              -0.008814        -0.069412         0.027861   \n",
       "black2white_king_dst        -0.004573         0.268161         0.611104   \n",
       "black2rook_dst               0.020399         0.020694        -0.022466   \n",
       "\n",
       "                        result  black_king_dst  black2white_king_dst  \\\n",
       "white_king_file      -0.195264       -0.054697             -0.297172   \n",
       "white_king_rank      -0.247554       -0.095732             -0.358309   \n",
       "white_rook_file      -0.056035        0.013431             -0.016254   \n",
       "white_rook_rank       0.001758       -0.008814             -0.004573   \n",
       "black_king_file       0.044304       -0.069412              0.268161   \n",
       "black_king_rank       0.216334        0.027861              0.611104   \n",
       "result                1.000000        0.230134              0.152326   \n",
       "black_king_dst        0.230134        1.000000             -0.358527   \n",
       "black2white_king_dst  0.152326       -0.358527              1.000000   \n",
       "black2rook_dst        0.350126       -0.322727              0.124789   \n",
       "\n",
       "                      black2rook_dst  \n",
       "white_king_file             0.025093  \n",
       "white_king_rank             0.036792  \n",
       "white_rook_file            -0.132705  \n",
       "white_rook_rank             0.020399  \n",
       "black_king_file             0.020694  \n",
       "black_king_rank            -0.022466  \n",
       "result                      0.350126  \n",
       "black_king_dst             -0.322727  \n",
       "black2white_king_dst        0.124789  \n",
       "black2rook_dst              1.000000  "
      ]
     },
     "execution_count": 52,
     "metadata": {},
     "output_type": "execute_result"
    }
   ],
   "source": [
    "df_train.corr()"
   ]
  },
  {
   "cell_type": "code",
   "execution_count": 53,
   "id": "908f7d05-cd27-4078-b791-a93ab8908c96",
   "metadata": {},
   "outputs": [
    {
     "data": {
      "text/plain": [
       "<AxesSubplot:>"
      ]
     },
     "execution_count": 53,
     "metadata": {},
     "output_type": "execute_result"
    },
    {
     "data": {
      "image/png": "[encoded data removed]",
      "text/plain": [
       "<Figure size 1440x1080 with 2 Axes>"
      ]
     },
     "metadata": {
      "needs_background": "light"
     },
     "output_type": "display_data"
    }
   ],
   "source": [
    "fig, ax = plt.subplots(figsize=(20, 15))\n",
    "sns.heatmap(df_train.corr(),annot=True)"
   ]
  },
  {
   "cell_type": "markdown",
   "id": "01d6ac4d-6ab7-4208-b35d-e359ab07f218",
   "metadata": {},
   "source": [
    "Z wykresu widać, że żadne zmienne nie mają wystarczająco dużej korelacji, abyśmy musieli je usuwać. Zmienna _result_ ma dosyć dobrą korelację z kilkoma zminnymi, między innymi dobre wartości są z kolumnami, które utworzyliśmy. Ciekawym spostrzeżeniem jest różnica w korelacji pomiędzy zmiennymi _black_king_file_ i _black_king_rank_, a zmienną _result_. Wygląda na to, że większość graczy woli matować do jednej z poziomych krawędzi planszy.\n"
   ]
  },
  {
   "cell_type": "code",
   "execution_count": 55,
   "id": "00502784-0991-4c8c-a3f7-4784c4e9abf4",
   "metadata": {},
   "outputs": [
    {
     "data": {
      "text/plain": [
       "<seaborn.axisgrid.FacetGrid at 0x164c29411f0>"
      ]
     },
     "execution_count": 55,
     "metadata": {},
     "output_type": "execute_result"
    },
    {
     "data": {
      "image/png": "[encoded data removed]",
      "text/plain": [
       "<Figure size 1800x720 with 1 Axes>"
      ]
     },
     "metadata": {
      "needs_background": "light"
     },
     "output_type": "display_data"
    }
   ],
   "source": [
    "sns.catplot(x=\"black2white_king_dst\", y=\"result\", data=df_train,height=10,aspect=2.5)"
   ]
  },
  {
   "cell_type": "markdown",
   "id": "73b66d85-9496-4c0a-9023-37b99ee80a15",
   "metadata": {},
   "source": [
    "Próbowaliśmy zobaczyć jak się ma gęstość ilości ruchów potrzebnych do mata względem odległości pomiędzy królami, ale wykres nie okazał się najlepszy. Jedyne co można zauważyć to, że im większa startowa odległość między królami, tym więcej ruchów potrzeba na mata. Jest to zrozumiałe, poniważ do mata króle powinny być obok siebie.  "
   ]
  }
 ],
 "metadata": {
  "kernelspec": {
   "display_name": "Python 3",
   "language": "python",
   "name": "python3"
  },
  "language_info": {
   "codemirror_mode": {
    "name": "ipython",
    "version": 3
   },
   "file_extension": ".py",
   "mimetype": "text/x-python",
   "name": "python",
   "nbconvert_exporter": "python",
   "pygments_lexer": "ipython3",
   "version": "3.8.12"
  }
 },
 "nbformat": 4,
 "nbformat_minor": 5
}
